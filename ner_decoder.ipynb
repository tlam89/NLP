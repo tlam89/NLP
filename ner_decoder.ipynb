{
  "nbformat": 4,
  "nbformat_minor": 0,
  "metadata": {
    "colab": {
      "name": "ner-decoder.ipynb",
      "provenance": [],
      "collapsed_sections": []
    },
    "kernelspec": {
      "name": "python3",
      "display_name": "Python 3"
    },
    "accelerator": "GPU"
  },
  "cells": [
    {
      "cell_type": "markdown",
      "metadata": {
        "id": "IsY0LJOIT_cG"
      },
      "source": [
        "# Implementing a Viterbi Decoder and Evaluation for Sequence Labeling\n",
        "\n",
        "In this assignment, you will build a Viterbi decoder for an LSTM named-entity recognition model. As we mentioned in class, recurrent and bidirectional recurrent neural networks, of which LSTMs are the most common examples, can be used to perform sequence labeling. Although these models encode information from the surrounding words in order to make predictions, there are no \"hard\" constraints on what tags can appear where.\n",
        "\n",
        "There hard constraints are particularly important for tasks that label spans of more than one token. The most common example of a span-labeling task is named-entity recognition (NER). As described in Eisenstein, Jurafksy & Martin, and other texts, the goal of NER is to label spans of one or more words as _mentions_ of an _entity_, such as a person, location, organization, etc.\n",
        "\n",
        "The most common approach to NER is to reduce it to a sequence-labeling task, where each token in the input is labeled either with an `O`, if it is \"outside\" any named-entity span, or with `B-TYPE`, if it is the first token in an entity of type `TYPE`, or with `I-TYPE`, if it is the second or later token in an entity of type `TYPE`. Distinguishing between the first and later tokens of an entity allow us to identify distinct entity spans even when they are adjacent.\n",
        "\n",
        "Common values of `TYPE` include `PER` for person, `LOC` for location, `DATE` for date, and so on. In the dataset we load below, there are 17 distinct types.\n",
        "\n",
        "The span-labeling scheme just described implies that the labels on tokens must obey certain constraints: the tag `I-PER` must follow either `B-PER` or another `I-PER`. It cannot follow `O`, `B-LOC`, or `I-LOC`, i.e., a tag for a different entity type. By themselves, LSTMs or bidirectional LSTMs cannot directly enforce these constraints. This is one reason why conditional random fields (CRFs), which _can_ enforce these constraints, are often layered on top of these recurrent models.\n",
        "\n",
        "In this assignment, you will implement the simplest possible CRF: a CRF so simple that it does not require any training. Rather, it will assign weight 1 to any sequence of tags that obeys the constraints and weight 0 to any sequence of tags that violates them. The inputs to the CRF, which are analogous to the emission probabilities in an HMM, will come from an LSTM.\n",
        "\n",
        "But first, in order to test your decoder, you will also implement some functions to evaluate the output of an NER system according to two metrics:\n",
        "1. You will count the number of _violations_ of the NER label constraints, i.e., how many times `I-TYPE` follows `O` or a tag of a different type or occurs at the beginning of a sentence. This number will be greater than 0 in the raw LSTM output, but should be 0 for your CRF output.\n",
        "1. You will compute the _span-level_ precision, recall, and F1 of NER output. Although the baseline LSTM was trained to achieve high _token-level_ accuracy, this metric can be misleadingly high, since so many tokens are correctly labeled `O`. In other words, what proportion of spans predicted by the model line up exactly with spans in the gold standard, and what proportion of spans in the gold standard were predicted by the model? Define _span_ as a sequence of tags that starts with a `B-TYPE` followed by zero or more `I-TYPE` tags. Sequences solely of `I-TYPE` tags don't count as spans.For more, see the original task definition: https://www.aclweb.org/anthology/W03-0419/.\n",
        "\n",
        "We start with loading some code and data and the describe your tasks in more detail."
      ]
    },
    {
      "cell_type": "markdown",
      "metadata": {
        "id": "Dhnn49QEU_Ik"
      },
      "source": [
        "## Set Up Dependencies and Definitions"
      ]
    },
    {
      "cell_type": "code",
      "metadata": {
        "id": "QJINX1MwOLBT",
        "colab": {
          "base_uri": "https://localhost:8080/"
        },
        "outputId": "690779e0-0a72-4a67-d553-eb6f4ebd232b"
      },
      "source": [
        "!pip install --upgrade spacy==2.1.0 allennlp==0.9.0\n",
        "import spacy"
      ],
      "execution_count": 1,
      "outputs": [
        {
          "output_type": "stream",
          "text": [
            "Collecting spacy==2.1.0\n",
            "\u001b[?25l  Downloading https://files.pythonhosted.org/packages/78/0f/ca790def675011f25bce8775cf9002b5085cd2288f85e891f70b32c18752/spacy-2.1.0-cp37-cp37m-manylinux1_x86_64.whl (27.7MB)\n",
            "\u001b[K     |████████████████████████████████| 27.7MB 102kB/s \n",
            "\u001b[?25hCollecting allennlp==0.9.0\n",
            "\u001b[?25l  Downloading https://files.pythonhosted.org/packages/bb/bb/041115d8bad1447080e5d1e30097c95e4b66e36074277afce8620a61cee3/allennlp-0.9.0-py3-none-any.whl (7.6MB)\n",
            "\u001b[K     |████████████████████████████████| 7.6MB 48.6MB/s \n",
            "\u001b[?25hRequirement already satisfied, skipping upgrade: requests<3.0.0,>=2.13.0 in /usr/local/lib/python3.7/dist-packages (from spacy==2.1.0) (2.23.0)\n",
            "Requirement already satisfied, skipping upgrade: wasabi<1.1.0,>=0.0.12 in /usr/local/lib/python3.7/dist-packages (from spacy==2.1.0) (0.8.2)\n",
            "Requirement already satisfied, skipping upgrade: murmurhash<1.1.0,>=0.28.0 in /usr/local/lib/python3.7/dist-packages (from spacy==2.1.0) (1.0.5)\n",
            "Requirement already satisfied, skipping upgrade: srsly<1.1.0,>=0.0.5 in /usr/local/lib/python3.7/dist-packages (from spacy==2.1.0) (1.0.5)\n",
            "Collecting thinc<7.1.0,>=7.0.2\n",
            "\u001b[?25l  Downloading https://files.pythonhosted.org/packages/36/42/d7ea7539af3852fd8c1f0b3adf4a100fb3d72b40b69cef1a764ff979a743/thinc-7.0.8-cp37-cp37m-manylinux1_x86_64.whl (2.1MB)\n",
            "\u001b[K     |████████████████████████████████| 2.1MB 46.2MB/s \n",
            "\u001b[?25hCollecting preshed<2.1.0,>=2.0.1\n",
            "\u001b[?25l  Downloading https://files.pythonhosted.org/packages/bc/2b/3ecd5d90d2d6fd39fbc520de7d80db5d74defdc2d7c2e15531d9cc3498c7/preshed-2.0.1-cp37-cp37m-manylinux1_x86_64.whl (82kB)\n",
            "\u001b[K     |████████████████████████████████| 92kB 12.6MB/s \n",
            "\u001b[?25hCollecting blis<0.3.0,>=0.2.2\n",
            "\u001b[?25l  Downloading https://files.pythonhosted.org/packages/fa/5f/47b7b29ad202b2210020e2f33bfb06d1db2abe0e709c2a84736e8a9d1bd5/blis-0.2.4-cp37-cp37m-manylinux1_x86_64.whl (3.2MB)\n",
            "\u001b[K     |████████████████████████████████| 3.2MB 52.8MB/s \n",
            "\u001b[?25hRequirement already satisfied, skipping upgrade: jsonschema<3.0.0,>=2.6.0 in /usr/local/lib/python3.7/dist-packages (from spacy==2.1.0) (2.6.0)\n",
            "Requirement already satisfied, skipping upgrade: cymem<2.1.0,>=2.0.2 in /usr/local/lib/python3.7/dist-packages (from spacy==2.1.0) (2.0.5)\n",
            "Requirement already satisfied, skipping upgrade: numpy>=1.15.0 in /usr/local/lib/python3.7/dist-packages (from spacy==2.1.0) (1.19.5)\n",
            "Collecting plac<1.0.0,>=0.9.6\n",
            "  Downloading https://files.pythonhosted.org/packages/9e/9b/62c60d2f5bc135d2aa1d8c8a86aaf84edb719a59c7f11a4316259e61a298/plac-0.9.6-py2.py3-none-any.whl\n",
            "Collecting ftfy\n",
            "\u001b[?25l  Downloading https://files.pythonhosted.org/packages/04/06/e5c80e2e0f979628d47345efba51f7ba386fe95963b11c594209085f5a9b/ftfy-5.9.tar.gz (66kB)\n",
            "\u001b[K     |████████████████████████████████| 71kB 10.6MB/s \n",
            "\u001b[?25hRequirement already satisfied, skipping upgrade: matplotlib>=2.2.3 in /usr/local/lib/python3.7/dist-packages (from allennlp==0.9.0) (3.2.2)\n",
            "Collecting pytorch-pretrained-bert>=0.6.0\n",
            "\u001b[?25l  Downloading https://files.pythonhosted.org/packages/d7/e0/c08d5553b89973d9a240605b9c12404bcf8227590de62bae27acbcfe076b/pytorch_pretrained_bert-0.6.2-py3-none-any.whl (123kB)\n",
            "\u001b[K     |████████████████████████████████| 133kB 52.0MB/s \n",
            "\u001b[?25hRequirement already satisfied, skipping upgrade: flask>=1.0.2 in /usr/local/lib/python3.7/dist-packages (from allennlp==0.9.0) (1.1.2)\n",
            "Requirement already satisfied, skipping upgrade: scikit-learn in /usr/local/lib/python3.7/dist-packages (from allennlp==0.9.0) (0.22.2.post1)\n",
            "Requirement already satisfied, skipping upgrade: nltk in /usr/local/lib/python3.7/dist-packages (from allennlp==0.9.0) (3.2.5)\n",
            "Collecting parsimonious>=0.8.0\n",
            "\u001b[?25l  Downloading https://files.pythonhosted.org/packages/02/fc/067a3f89869a41009e1a7cdfb14725f8ddd246f30f63c645e8ef8a1c56f4/parsimonious-0.8.1.tar.gz (45kB)\n",
            "\u001b[K     |████████████████████████████████| 51kB 8.3MB/s \n",
            "\u001b[?25hCollecting boto3\n",
            "\u001b[?25l  Downloading https://files.pythonhosted.org/packages/37/d6/b16f09ce6fc7888e554cf289be0872456e9cab68d9944e4b8e25d3b6af93/boto3-1.17.42-py2.py3-none-any.whl (131kB)\n",
            "\u001b[K     |████████████████████████████████| 133kB 55.3MB/s \n",
            "\u001b[?25hCollecting jsonnet>=0.10.0; sys_platform != \"win32\"\n",
            "\u001b[?25l  Downloading https://files.pythonhosted.org/packages/42/40/6f16e5ac994b16fa71c24310f97174ce07d3a97b433275589265c6b94d2b/jsonnet-0.17.0.tar.gz (259kB)\n",
            "\u001b[K     |████████████████████████████████| 266kB 48.2MB/s \n",
            "\u001b[?25hCollecting tensorboardX>=1.2\n",
            "\u001b[?25l  Downloading https://files.pythonhosted.org/packages/af/0c/4f41bcd45db376e6fe5c619c01100e9b7531c55791b7244815bac6eac32c/tensorboardX-2.1-py2.py3-none-any.whl (308kB)\n",
            "\u001b[K     |████████████████████████████████| 317kB 54.2MB/s \n",
            "\u001b[?25hCollecting flaky\n",
            "  Downloading https://files.pythonhosted.org/packages/43/0e/2f50064e327f41a1eb811df089f813036e19a64b95e33f8e9e0b96c2447e/flaky-3.7.0-py2.py3-none-any.whl\n",
            "Collecting flask-cors>=3.0.7\n",
            "  Downloading https://files.pythonhosted.org/packages/db/84/901e700de86604b1c4ef4b57110d4e947c218b9997adf5d38fa7da493bce/Flask_Cors-3.0.10-py2.py3-none-any.whl\n",
            "Collecting unidecode\n",
            "\u001b[?25l  Downloading https://files.pythonhosted.org/packages/9e/25/723487ca2a52ebcee88a34d7d1f5a4b80b793f179ee0f62d5371938dfa01/Unidecode-1.2.0-py2.py3-none-any.whl (241kB)\n",
            "\u001b[K     |████████████████████████████████| 245kB 50.2MB/s \n",
            "\u001b[?25hRequirement already satisfied, skipping upgrade: pytz>=2017.3 in /usr/local/lib/python3.7/dist-packages (from allennlp==0.9.0) (2018.9)\n",
            "Requirement already satisfied, skipping upgrade: tqdm>=4.19 in /usr/local/lib/python3.7/dist-packages (from allennlp==0.9.0) (4.41.1)\n",
            "Collecting numpydoc>=0.8.0\n",
            "\u001b[?25l  Downloading https://files.pythonhosted.org/packages/60/1d/9e398c53d6ae27d5ab312ddc16a9ffe1bee0dfdf1d6ec88c40b0ca97582e/numpydoc-1.1.0-py3-none-any.whl (47kB)\n",
            "\u001b[K     |████████████████████████████████| 51kB 8.3MB/s \n",
            "\u001b[?25hCollecting jsonpickle\n",
            "  Downloading https://files.pythonhosted.org/packages/bb/1a/f2db026d4d682303793559f1c2bb425ba3ec0d6fd7ac63397790443f2461/jsonpickle-2.0.0-py2.py3-none-any.whl\n",
            "Collecting overrides\n",
            "  Downloading https://files.pythonhosted.org/packages/ff/b1/10f69c00947518e6676bbd43e739733048de64b8dd998e9c2d5a71f44c5d/overrides-3.1.0.tar.gz\n",
            "Requirement already satisfied, skipping upgrade: scipy in /usr/local/lib/python3.7/dist-packages (from allennlp==0.9.0) (1.4.1)\n",
            "Collecting conllu==1.3.1\n",
            "  Downloading https://files.pythonhosted.org/packages/ae/54/b0ae1199f3d01666821b028cd967f7c0ac527ab162af433d3da69242cea2/conllu-1.3.1-py2.py3-none-any.whl\n",
            "Requirement already satisfied, skipping upgrade: editdistance in /usr/local/lib/python3.7/dist-packages (from allennlp==0.9.0) (0.5.3)\n",
            "Requirement already satisfied, skipping upgrade: h5py in /usr/local/lib/python3.7/dist-packages (from allennlp==0.9.0) (2.10.0)\n",
            "Collecting word2number>=1.1\n",
            "  Downloading https://files.pythonhosted.org/packages/4a/29/a31940c848521f0725f0df6b25dca8917f13a2025b0e8fcbe5d0457e45e6/word2number-1.1.zip\n",
            "Requirement already satisfied, skipping upgrade: sqlparse>=0.2.4 in /usr/local/lib/python3.7/dist-packages (from allennlp==0.9.0) (0.4.1)\n",
            "Collecting responses>=0.7\n",
            "  Downloading https://files.pythonhosted.org/packages/a8/ba/03b4c978708510c2ab52a75804530edfd96647f3de44abe1cf25d16150ad/responses-0.13.2-py2.py3-none-any.whl\n",
            "Collecting pytorch-transformers==1.1.0\n",
            "\u001b[?25l  Downloading https://files.pythonhosted.org/packages/50/89/ad0d6bb932d0a51793eaabcf1617a36ff530dc9ab9e38f765a35dc293306/pytorch_transformers-1.1.0-py3-none-any.whl (158kB)\n",
            "\u001b[K     |████████████████████████████████| 163kB 51.2MB/s \n",
            "\u001b[?25hRequirement already satisfied, skipping upgrade: pytest in /usr/local/lib/python3.7/dist-packages (from allennlp==0.9.0) (3.6.4)\n",
            "Requirement already satisfied, skipping upgrade: torch>=1.2.0 in /usr/local/lib/python3.7/dist-packages (from allennlp==0.9.0) (1.8.1+cu101)\n",
            "Collecting gevent>=1.3.6\n",
            "\u001b[?25l  Downloading https://files.pythonhosted.org/packages/3e/85/df3d1fd2b60a87455475f93012861b76a411d27ba4a0859939adbe2c9dc3/gevent-21.1.2-cp37-cp37m-manylinux2010_x86_64.whl (5.6MB)\n",
            "\u001b[K     |████████████████████████████████| 5.6MB 53.7MB/s \n",
            "\u001b[?25hRequirement already satisfied, skipping upgrade: urllib3!=1.25.0,!=1.25.1,<1.26,>=1.21.1 in /usr/local/lib/python3.7/dist-packages (from requests<3.0.0,>=2.13.0->spacy==2.1.0) (1.24.3)\n",
            "Requirement already satisfied, skipping upgrade: chardet<4,>=3.0.2 in /usr/local/lib/python3.7/dist-packages (from requests<3.0.0,>=2.13.0->spacy==2.1.0) (3.0.4)\n",
            "Requirement already satisfied, skipping upgrade: certifi>=2017.4.17 in /usr/local/lib/python3.7/dist-packages (from requests<3.0.0,>=2.13.0->spacy==2.1.0) (2020.12.5)\n",
            "Requirement already satisfied, skipping upgrade: idna<3,>=2.5 in /usr/local/lib/python3.7/dist-packages (from requests<3.0.0,>=2.13.0->spacy==2.1.0) (2.10)\n",
            "Requirement already satisfied, skipping upgrade: wcwidth in /usr/local/lib/python3.7/dist-packages (from ftfy->allennlp==0.9.0) (0.2.5)\n",
            "Requirement already satisfied, skipping upgrade: pyparsing!=2.0.4,!=2.1.2,!=2.1.6,>=2.0.1 in /usr/local/lib/python3.7/dist-packages (from matplotlib>=2.2.3->allennlp==0.9.0) (2.4.7)\n",
            "Requirement already satisfied, skipping upgrade: cycler>=0.10 in /usr/local/lib/python3.7/dist-packages (from matplotlib>=2.2.3->allennlp==0.9.0) (0.10.0)\n",
            "Requirement already satisfied, skipping upgrade: python-dateutil>=2.1 in /usr/local/lib/python3.7/dist-packages (from matplotlib>=2.2.3->allennlp==0.9.0) (2.8.1)\n",
            "Requirement already satisfied, skipping upgrade: kiwisolver>=1.0.1 in /usr/local/lib/python3.7/dist-packages (from matplotlib>=2.2.3->allennlp==0.9.0) (1.3.1)\n",
            "Requirement already satisfied, skipping upgrade: regex in /usr/local/lib/python3.7/dist-packages (from pytorch-pretrained-bert>=0.6.0->allennlp==0.9.0) (2019.12.20)\n",
            "Requirement already satisfied, skipping upgrade: click>=5.1 in /usr/local/lib/python3.7/dist-packages (from flask>=1.0.2->allennlp==0.9.0) (7.1.2)\n",
            "Requirement already satisfied, skipping upgrade: Werkzeug>=0.15 in /usr/local/lib/python3.7/dist-packages (from flask>=1.0.2->allennlp==0.9.0) (1.0.1)\n",
            "Requirement already satisfied, skipping upgrade: itsdangerous>=0.24 in /usr/local/lib/python3.7/dist-packages (from flask>=1.0.2->allennlp==0.9.0) (1.1.0)\n",
            "Requirement already satisfied, skipping upgrade: Jinja2>=2.10.1 in /usr/local/lib/python3.7/dist-packages (from flask>=1.0.2->allennlp==0.9.0) (2.11.3)\n",
            "Requirement already satisfied, skipping upgrade: joblib>=0.11 in /usr/local/lib/python3.7/dist-packages (from scikit-learn->allennlp==0.9.0) (1.0.1)\n",
            "Requirement already satisfied, skipping upgrade: six in /usr/local/lib/python3.7/dist-packages (from nltk->allennlp==0.9.0) (1.15.0)\n",
            "Collecting jmespath<1.0.0,>=0.7.1\n",
            "  Downloading https://files.pythonhosted.org/packages/07/cb/5f001272b6faeb23c1c9e0acc04d48eaaf5c862c17709d20e3469c6e0139/jmespath-0.10.0-py2.py3-none-any.whl\n",
            "Collecting botocore<1.21.0,>=1.20.42\n",
            "\u001b[?25l  Downloading https://files.pythonhosted.org/packages/00/bc/53cbcc88c72f014f199bc2b8a12af1d5c234eee6a372b2765a7e4086a752/botocore-1.20.42-py2.py3-none-any.whl (7.4MB)\n",
            "\u001b[K     |████████████████████████████████| 7.4MB 47.8MB/s \n",
            "\u001b[?25hCollecting s3transfer<0.4.0,>=0.3.0\n",
            "\u001b[?25l  Downloading https://files.pythonhosted.org/packages/98/14/0b4be62b65c52d6d1c442f24e02d2a9889a73d3c352002e14c70f84a679f/s3transfer-0.3.6-py2.py3-none-any.whl (73kB)\n",
            "\u001b[K     |████████████████████████████████| 81kB 10.0MB/s \n",
            "\u001b[?25hRequirement already satisfied, skipping upgrade: protobuf>=3.8.0 in /usr/local/lib/python3.7/dist-packages (from tensorboardX>=1.2->allennlp==0.9.0) (3.12.4)\n",
            "Requirement already satisfied, skipping upgrade: sphinx>=1.6.5 in /usr/local/lib/python3.7/dist-packages (from numpydoc>=0.8.0->allennlp==0.9.0) (1.8.5)\n",
            "Requirement already satisfied, skipping upgrade: importlib-metadata; python_version < \"3.8\" in /usr/local/lib/python3.7/dist-packages (from jsonpickle->allennlp==0.9.0) (3.8.1)\n",
            "Collecting sentencepiece\n",
            "\u001b[?25l  Downloading https://files.pythonhosted.org/packages/f5/99/e0808cb947ba10f575839c43e8fafc9cc44e4a7a2c8f79c60db48220a577/sentencepiece-0.1.95-cp37-cp37m-manylinux2014_x86_64.whl (1.2MB)\n",
            "\u001b[K     |████████████████████████████████| 1.2MB 44.1MB/s \n",
            "\u001b[?25hRequirement already satisfied, skipping upgrade: attrs>=17.4.0 in /usr/local/lib/python3.7/dist-packages (from pytest->allennlp==0.9.0) (20.3.0)\n",
            "Requirement already satisfied, skipping upgrade: more-itertools>=4.0.0 in /usr/local/lib/python3.7/dist-packages (from pytest->allennlp==0.9.0) (8.7.0)\n",
            "Requirement already satisfied, skipping upgrade: pluggy<0.8,>=0.5 in /usr/local/lib/python3.7/dist-packages (from pytest->allennlp==0.9.0) (0.7.1)\n",
            "Requirement already satisfied, skipping upgrade: py>=1.5.0 in /usr/local/lib/python3.7/dist-packages (from pytest->allennlp==0.9.0) (1.10.0)\n",
            "Requirement already satisfied, skipping upgrade: atomicwrites>=1.0 in /usr/local/lib/python3.7/dist-packages (from pytest->allennlp==0.9.0) (1.4.0)\n",
            "Requirement already satisfied, skipping upgrade: setuptools in /usr/local/lib/python3.7/dist-packages (from pytest->allennlp==0.9.0) (54.2.0)\n",
            "Requirement already satisfied, skipping upgrade: typing-extensions in /usr/local/lib/python3.7/dist-packages (from torch>=1.2.0->allennlp==0.9.0) (3.7.4.3)\n",
            "Collecting zope.event\n",
            "  Downloading https://files.pythonhosted.org/packages/9e/85/b45408c64f3b888976f1d5b37eed8d746b8d5729a66a49ec846fda27d371/zope.event-4.5.0-py2.py3-none-any.whl\n",
            "Requirement already satisfied, skipping upgrade: greenlet<2.0,>=0.4.17; platform_python_implementation == \"CPython\" in /usr/local/lib/python3.7/dist-packages (from gevent>=1.3.6->allennlp==0.9.0) (1.0.0)\n",
            "Collecting zope.interface\n",
            "\u001b[?25l  Downloading https://files.pythonhosted.org/packages/89/57/8a68360d697cf9159cba5ee35f2d25bdcda33883e8b5a997714a191a0b11/zope.interface-5.3.0-cp37-cp37m-manylinux2010_x86_64.whl (248kB)\n",
            "\u001b[K     |████████████████████████████████| 256kB 54.5MB/s \n",
            "\u001b[?25hRequirement already satisfied, skipping upgrade: MarkupSafe>=0.23 in /usr/local/lib/python3.7/dist-packages (from Jinja2>=2.10.1->flask>=1.0.2->allennlp==0.9.0) (1.1.1)\n",
            "Requirement already satisfied, skipping upgrade: alabaster<0.8,>=0.7 in /usr/local/lib/python3.7/dist-packages (from sphinx>=1.6.5->numpydoc>=0.8.0->allennlp==0.9.0) (0.7.12)\n",
            "Requirement already satisfied, skipping upgrade: snowballstemmer>=1.1 in /usr/local/lib/python3.7/dist-packages (from sphinx>=1.6.5->numpydoc>=0.8.0->allennlp==0.9.0) (2.1.0)\n",
            "Requirement already satisfied, skipping upgrade: sphinxcontrib-websupport in /usr/local/lib/python3.7/dist-packages (from sphinx>=1.6.5->numpydoc>=0.8.0->allennlp==0.9.0) (1.2.4)\n",
            "Requirement already satisfied, skipping upgrade: imagesize in /usr/local/lib/python3.7/dist-packages (from sphinx>=1.6.5->numpydoc>=0.8.0->allennlp==0.9.0) (1.2.0)\n",
            "Requirement already satisfied, skipping upgrade: packaging in /usr/local/lib/python3.7/dist-packages (from sphinx>=1.6.5->numpydoc>=0.8.0->allennlp==0.9.0) (20.9)\n",
            "Requirement already satisfied, skipping upgrade: Pygments>=2.0 in /usr/local/lib/python3.7/dist-packages (from sphinx>=1.6.5->numpydoc>=0.8.0->allennlp==0.9.0) (2.6.1)\n",
            "Requirement already satisfied, skipping upgrade: babel!=2.0,>=1.3 in /usr/local/lib/python3.7/dist-packages (from sphinx>=1.6.5->numpydoc>=0.8.0->allennlp==0.9.0) (2.9.0)\n",
            "Requirement already satisfied, skipping upgrade: docutils>=0.11 in /usr/local/lib/python3.7/dist-packages (from sphinx>=1.6.5->numpydoc>=0.8.0->allennlp==0.9.0) (0.16)\n",
            "Requirement already satisfied, skipping upgrade: zipp>=0.5 in /usr/local/lib/python3.7/dist-packages (from importlib-metadata; python_version < \"3.8\"->jsonpickle->allennlp==0.9.0) (3.4.1)\n",
            "Requirement already satisfied, skipping upgrade: sphinxcontrib-serializinghtml in /usr/local/lib/python3.7/dist-packages (from sphinxcontrib-websupport->sphinx>=1.6.5->numpydoc>=0.8.0->allennlp==0.9.0) (1.1.4)\n",
            "Building wheels for collected packages: ftfy, parsimonious, jsonnet, overrides, word2number\n",
            "  Building wheel for ftfy (setup.py) ... \u001b[?25l\u001b[?25hdone\n",
            "  Created wheel for ftfy: filename=ftfy-5.9-cp37-none-any.whl size=46451 sha256=3733377f5b86d2feddc221e0b2bbbd3dc16e4da51129ad04035113ae6f9725df\n",
            "  Stored in directory: /root/.cache/pip/wheels/5e/2e/f0/b07196e8c929114998f0316894a61c752b63bfa3fdd50d2fc3\n",
            "  Building wheel for parsimonious (setup.py) ... \u001b[?25l\u001b[?25hdone\n",
            "  Created wheel for parsimonious: filename=parsimonious-0.8.1-cp37-none-any.whl size=42711 sha256=458dd22d66e259d890e84ecd9a752ed63d1718f9e5414b791d50a039d5b6fcdc\n",
            "  Stored in directory: /root/.cache/pip/wheels/b7/8d/e7/a0e74217da5caeb3c1c7689639b6d28ddbf9985b840bc96a9a\n",
            "  Building wheel for jsonnet (setup.py) ... \u001b[?25l\u001b[?25hdone\n",
            "  Created wheel for jsonnet: filename=jsonnet-0.17.0-cp37-cp37m-linux_x86_64.whl size=3388801 sha256=f167e26515e0970d9b2486f401924203c74547626472aafc7199c2cb635f5662\n",
            "  Stored in directory: /root/.cache/pip/wheels/26/7a/37/7dbcc30a6b4efd17b91ad1f0128b7bbf84813bd4e1cfb8c1e3\n",
            "  Building wheel for overrides (setup.py) ... \u001b[?25l\u001b[?25hdone\n",
            "  Created wheel for overrides: filename=overrides-3.1.0-cp37-none-any.whl size=10174 sha256=2e9df2f811298ffedae01dcb5313352583b6ee62c2948c5a76584eff37707fbc\n",
            "  Stored in directory: /root/.cache/pip/wheels/5c/24/13/6ef8600e6f147c95e595f1289a86a3cc82ed65df57582c65a9\n",
            "  Building wheel for word2number (setup.py) ... \u001b[?25l\u001b[?25hdone\n",
            "  Created wheel for word2number: filename=word2number-1.1-cp37-none-any.whl size=5589 sha256=e9cba8f753d6358a94cf1e6ca794aceade1f3bf41c08652131972fe6016a55aa\n",
            "  Stored in directory: /root/.cache/pip/wheels/46/2f/53/5f5c1d275492f2fce1cdab9a9bb12d49286dead829a4078e0e\n",
            "Successfully built ftfy parsimonious jsonnet overrides word2number\n",
            "\u001b[31mERROR: en-core-web-sm 2.2.5 has requirement spacy>=2.2.2, but you'll have spacy 2.1.0 which is incompatible.\u001b[0m\n",
            "\u001b[31mERROR: botocore 1.20.42 has requirement urllib3<1.27,>=1.25.4, but you'll have urllib3 1.24.3 which is incompatible.\u001b[0m\n",
            "\u001b[31mERROR: responses 0.13.2 has requirement urllib3>=1.25.10, but you'll have urllib3 1.24.3 which is incompatible.\u001b[0m\n",
            "Installing collected packages: preshed, plac, blis, thinc, spacy, ftfy, jmespath, botocore, s3transfer, boto3, pytorch-pretrained-bert, parsimonious, jsonnet, tensorboardX, flaky, flask-cors, unidecode, numpydoc, jsonpickle, overrides, conllu, word2number, responses, sentencepiece, pytorch-transformers, zope.event, zope.interface, gevent, allennlp\n",
            "  Found existing installation: preshed 3.0.5\n",
            "    Uninstalling preshed-3.0.5:\n",
            "      Successfully uninstalled preshed-3.0.5\n",
            "  Found existing installation: plac 1.1.3\n",
            "    Uninstalling plac-1.1.3:\n",
            "      Successfully uninstalled plac-1.1.3\n",
            "  Found existing installation: blis 0.4.1\n",
            "    Uninstalling blis-0.4.1:\n",
            "      Successfully uninstalled blis-0.4.1\n",
            "  Found existing installation: thinc 7.4.0\n",
            "    Uninstalling thinc-7.4.0:\n",
            "      Successfully uninstalled thinc-7.4.0\n",
            "  Found existing installation: spacy 2.2.4\n",
            "    Uninstalling spacy-2.2.4:\n",
            "      Successfully uninstalled spacy-2.2.4\n",
            "Successfully installed allennlp-0.9.0 blis-0.2.4 boto3-1.17.42 botocore-1.20.42 conllu-1.3.1 flaky-3.7.0 flask-cors-3.0.10 ftfy-5.9 gevent-21.1.2 jmespath-0.10.0 jsonnet-0.17.0 jsonpickle-2.0.0 numpydoc-1.1.0 overrides-3.1.0 parsimonious-0.8.1 plac-0.9.6 preshed-2.0.1 pytorch-pretrained-bert-0.6.2 pytorch-transformers-1.1.0 responses-0.13.2 s3transfer-0.3.6 sentencepiece-0.1.95 spacy-2.1.0 tensorboardX-2.1 thinc-7.0.8 unidecode-1.2.0 word2number-1.1 zope.event-4.5.0 zope.interface-5.3.0\n"
          ],
          "name": "stdout"
        }
      ]
    },
    {
      "cell_type": "code",
      "metadata": {
        "id": "f4zJfaIlJ2bv",
        "colab": {
          "base_uri": "https://localhost:8080/"
        },
        "outputId": "e671024d-81b3-4932-8e7e-21937f508648"
      },
      "source": [
        "from typing import Iterator, List, Dict\n",
        "import torch\n",
        "import torch.optim as optim\n",
        "import numpy as np\n",
        "from allennlp.data import Instance\n",
        "from allennlp.data.fields import TextField, SequenceLabelField\n",
        "from allennlp.data.dataset_readers import DatasetReader\n",
        "from allennlp.common.file_utils import cached_path\n",
        "from allennlp.data.token_indexers import TokenIndexer, SingleIdTokenIndexer\n",
        "from allennlp.data.tokenizers import Token\n",
        "from allennlp.data.vocabulary import Vocabulary\n",
        "from allennlp.models import Model\n",
        "from allennlp.modules.text_field_embedders import TextFieldEmbedder, BasicTextFieldEmbedder\n",
        "from allennlp.modules.token_embedders import Embedding\n",
        "from allennlp.modules.seq2seq_encoders import Seq2SeqEncoder, PytorchSeq2SeqWrapper\n",
        "from allennlp.nn.util import get_text_field_mask, sequence_cross_entropy_with_logits\n",
        "from allennlp.training.metrics import CategoricalAccuracy\n",
        "from allennlp.data.iterators import BucketIterator\n",
        "from allennlp.training.trainer import Trainer\n",
        "from allennlp.predictors import SentenceTaggerPredictor\n",
        "from allennlp.data.dataset_readers import conll2003\n",
        "\n",
        "torch.manual_seed(1)"
      ],
      "execution_count": 2,
      "outputs": [
        {
          "output_type": "execute_result",
          "data": {
            "text/plain": [
              "<torch._C.Generator at 0x7fa4d77f0750>"
            ]
          },
          "metadata": {
            "tags": []
          },
          "execution_count": 2
        }
      ]
    },
    {
      "cell_type": "code",
      "metadata": {
        "id": "Qo16Ko0Gchxk"
      },
      "source": [
        "class LstmTagger(Model):\n",
        "  def __init__(self,\n",
        "               word_embeddings: TextFieldEmbedder,\n",
        "               encoder: Seq2SeqEncoder,\n",
        "               vocab: Vocabulary) -> None:\n",
        "    super().__init__(vocab)\n",
        "    self.word_embeddings = word_embeddings\n",
        "    self.encoder = encoder\n",
        "    self.hidden2tag = torch.nn.Linear(in_features=encoder.get_output_dim(),\n",
        "                                      out_features=vocab.get_vocab_size('labels'))\n",
        "    self.accuracy = CategoricalAccuracy()\n",
        "\n",
        "  def forward(self,\n",
        "              tokens: Dict[str, torch.Tensor],\n",
        "              metadata,\n",
        "              tags: torch.Tensor = None) -> Dict[str, torch.Tensor]:\n",
        "    mask = get_text_field_mask(tokens)\n",
        "    embeddings = self.word_embeddings(tokens)\n",
        "    encoder_out = self.encoder(embeddings, mask)\n",
        "    tag_logits = self.hidden2tag(encoder_out)\n",
        "    output = {\"tag_logits\": tag_logits}\n",
        "    if tags is not None:\n",
        "      self.accuracy(tag_logits, tags, mask)\n",
        "      output[\"loss\"] = sequence_cross_entropy_with_logits(tag_logits, tags, mask)\n",
        "\n",
        "    return output\n",
        "\n",
        "  def get_metrics(self, reset: bool = False) -> Dict[str, float]:\n",
        "    return {\"accuracy\": self.accuracy.get_metric(reset)}"
      ],
      "execution_count": 3,
      "outputs": []
    },
    {
      "cell_type": "markdown",
      "metadata": {
        "id": "mVdKvPftVVLt"
      },
      "source": [
        "## Import Data"
      ]
    },
    {
      "cell_type": "code",
      "metadata": {
        "id": "5sOVVZslKm3N",
        "colab": {
          "base_uri": "https://localhost:8080/"
        },
        "outputId": "1135a715-1a64-4a4b-adaa-f931ceb05ab9"
      },
      "source": [
        "reader = conll2003.Conll2003DatasetReader()\n",
        "train_dataset = reader.read(cached_path('http://www.ccs.neu.edu/home/dasmith/onto.train.ner.sample'))\n",
        "validation_dataset = reader.read(cached_path('http://www.ccs.neu.edu/home/dasmith/onto.development.ner.sample'))\n",
        "\n",
        "from itertools import chain\n",
        "vocab = Vocabulary.from_instances(chain(train_dataset, validation_dataset))"
      ],
      "execution_count": 4,
      "outputs": [
        {
          "output_type": "stream",
          "text": [
            "159377B [00:00, 56449551.48B/s]\n",
            "562it [00:00, 17865.96it/s]\n",
            "8366B [00:00, 16343524.58B/s]\n",
            "23it [00:00, 6795.03it/s]\n",
            "585it [00:00, 69300.90it/s]\n"
          ],
          "name": "stderr"
        }
      ]
    },
    {
      "cell_type": "markdown",
      "metadata": {
        "id": "wpg2Udr-Vnwm"
      },
      "source": [
        "## Define and Train Model"
      ]
    },
    {
      "cell_type": "code",
      "metadata": {
        "id": "8kDQQBMywdKx",
        "colab": {
          "base_uri": "https://localhost:8080/"
        },
        "outputId": "ae0332bc-57de-4322-e19f-0bb82694e8d3"
      },
      "source": [
        "EMBEDDING_DIM = 6\n",
        "HIDDEN_DIM = 6\n",
        "token_embedding = Embedding(num_embeddings=vocab.get_vocab_size('tokens'),\n",
        "                            embedding_dim=EMBEDDING_DIM)\n",
        "word_embeddings = BasicTextFieldEmbedder({\"tokens\": token_embedding})\n",
        "lstm = PytorchSeq2SeqWrapper(torch.nn.LSTM(EMBEDDING_DIM, HIDDEN_DIM, bidirectional=False, batch_first=True))\n",
        "model = LstmTagger(word_embeddings, lstm, vocab)\n",
        "if torch.cuda.is_available():\n",
        "    cuda_device = 0\n",
        "    model = model.cuda(cuda_device)\n",
        "else:\n",
        "    cuda_device = -1\n",
        "# optimizer = optim.AdamW(model.parameters(), lr=1e-4, eps=1e-8)\n",
        "optimizer = optim.SGD(model.parameters(), lr=0.1)\n",
        "iterator = BucketIterator(batch_size=2, sorting_keys=[(\"tokens\", \"num_tokens\")])\n",
        "iterator.index_with(vocab)\n",
        "trainer = Trainer(model=model,\n",
        "                  optimizer=optimizer,\n",
        "                  iterator=iterator,\n",
        "                  train_dataset=train_dataset,\n",
        "                  validation_dataset=validation_dataset,\n",
        "                  patience=10,\n",
        "                  num_epochs=100,\n",
        "                  cuda_device=cuda_device)\n",
        "trainer.train()"
      ],
      "execution_count": 5,
      "outputs": [
        {
          "output_type": "stream",
          "text": [
            "accuracy: 0.8442, loss: 0.9067 ||: 100%|██████████| 281/281 [00:01<00:00, 196.90it/s]\n",
            "accuracy: 0.7878, loss: 1.2038 ||: 100%|██████████| 12/12 [00:00<00:00, 436.07it/s]\n",
            "accuracy: 0.8442, loss: 0.7282 ||: 100%|██████████| 281/281 [00:01<00:00, 261.43it/s]\n",
            "accuracy: 0.7878, loss: 1.1714 ||: 100%|██████████| 12/12 [00:00<00:00, 345.31it/s]\n",
            "accuracy: 0.8442, loss: 0.7167 ||: 100%|██████████| 281/281 [00:01<00:00, 258.48it/s]\n",
            "accuracy: 0.7878, loss: 1.1854 ||: 100%|██████████| 12/12 [00:00<00:00, 475.62it/s]\n",
            "accuracy: 0.8442, loss: 0.7071 ||: 100%|██████████| 281/281 [00:01<00:00, 258.23it/s]\n",
            "accuracy: 0.7878, loss: 1.1761 ||: 100%|██████████| 12/12 [00:00<00:00, 485.70it/s]\n",
            "accuracy: 0.8442, loss: 0.6982 ||: 100%|██████████| 281/281 [00:01<00:00, 265.01it/s]\n",
            "accuracy: 0.7878, loss: 1.1598 ||: 100%|██████████| 12/12 [00:00<00:00, 467.34it/s]\n",
            "accuracy: 0.8442, loss: 0.6911 ||: 100%|██████████| 281/281 [00:01<00:00, 254.60it/s]\n",
            "accuracy: 0.7878, loss: 1.1512 ||: 100%|██████████| 12/12 [00:00<00:00, 410.88it/s]\n",
            "accuracy: 0.8442, loss: 0.6812 ||: 100%|██████████| 281/281 [00:01<00:00, 257.91it/s]\n",
            "accuracy: 0.7878, loss: 1.1543 ||: 100%|██████████| 12/12 [00:00<00:00, 373.37it/s]\n",
            "accuracy: 0.8442, loss: 0.6705 ||: 100%|██████████| 281/281 [00:01<00:00, 263.13it/s]\n",
            "accuracy: 0.7878, loss: 1.1361 ||: 100%|██████████| 12/12 [00:00<00:00, 469.47it/s]\n",
            "accuracy: 0.8442, loss: 0.6563 ||: 100%|██████████| 281/281 [00:01<00:00, 261.92it/s]\n",
            "accuracy: 0.7878, loss: 1.1072 ||: 100%|██████████| 12/12 [00:00<00:00, 460.69it/s]\n",
            "accuracy: 0.8442, loss: 0.6382 ||: 100%|██████████| 281/281 [00:01<00:00, 252.87it/s]\n",
            "accuracy: 0.7878, loss: 1.0717 ||: 100%|██████████| 12/12 [00:00<00:00, 440.81it/s]\n",
            "accuracy: 0.8442, loss: 0.6134 ||: 100%|██████████| 281/281 [00:01<00:00, 258.00it/s]\n",
            "accuracy: 0.7878, loss: 1.0371 ||: 100%|██████████| 12/12 [00:00<00:00, 457.47it/s]\n",
            "accuracy: 0.8442, loss: 0.5786 ||: 100%|██████████| 281/281 [00:01<00:00, 258.85it/s]\n",
            "accuracy: 0.7878, loss: 0.9719 ||: 100%|██████████| 12/12 [00:00<00:00, 420.18it/s]\n",
            "accuracy: 0.8455, loss: 0.5383 ||: 100%|██████████| 281/281 [00:01<00:00, 258.60it/s]\n",
            "accuracy: 0.7878, loss: 0.9563 ||: 100%|██████████| 12/12 [00:00<00:00, 481.99it/s]\n",
            "accuracy: 0.8566, loss: 0.5020 ||: 100%|██████████| 281/281 [00:01<00:00, 264.84it/s]\n",
            "accuracy: 0.7878, loss: 0.8745 ||: 100%|██████████| 12/12 [00:00<00:00, 457.24it/s]\n",
            "accuracy: 0.8590, loss: 0.4705 ||: 100%|██████████| 281/281 [00:01<00:00, 260.77it/s]\n",
            "accuracy: 0.7878, loss: 0.8573 ||: 100%|██████████| 12/12 [00:00<00:00, 473.28it/s]\n",
            "accuracy: 0.8600, loss: 0.4476 ||: 100%|██████████| 281/281 [00:01<00:00, 264.13it/s]\n",
            "accuracy: 0.7939, loss: 0.7970 ||: 100%|██████████| 12/12 [00:00<00:00, 470.56it/s]\n",
            "accuracy: 0.8612, loss: 0.4305 ||: 100%|██████████| 281/281 [00:01<00:00, 260.83it/s]\n",
            "accuracy: 0.7918, loss: 0.7923 ||: 100%|██████████| 12/12 [00:00<00:00, 433.19it/s]\n",
            "accuracy: 0.8624, loss: 0.4178 ||: 100%|██████████| 281/281 [00:01<00:00, 259.08it/s]\n",
            "accuracy: 0.7939, loss: 0.7726 ||: 100%|██████████| 12/12 [00:00<00:00, 451.38it/s]\n",
            "accuracy: 0.8628, loss: 0.4064 ||: 100%|██████████| 281/281 [00:01<00:00, 263.46it/s]\n",
            "accuracy: 0.7939, loss: 0.7481 ||: 100%|██████████| 12/12 [00:00<00:00, 395.04it/s]\n",
            "accuracy: 0.8630, loss: 0.3975 ||: 100%|██████████| 281/281 [00:01<00:00, 261.96it/s]\n",
            "accuracy: 0.7939, loss: 0.7545 ||: 100%|██████████| 12/12 [00:00<00:00, 461.25it/s]\n",
            "accuracy: 0.8635, loss: 0.3928 ||: 100%|██████████| 281/281 [00:01<00:00, 266.41it/s]\n",
            "accuracy: 0.7939, loss: 0.7361 ||: 100%|██████████| 12/12 [00:00<00:00, 503.80it/s]\n",
            "accuracy: 0.8645, loss: 0.3870 ||: 100%|██████████| 281/281 [00:01<00:00, 264.22it/s]\n",
            "accuracy: 0.7939, loss: 0.7379 ||: 100%|██████████| 12/12 [00:00<00:00, 433.87it/s]\n",
            "accuracy: 0.8643, loss: 0.3807 ||: 100%|██████████| 281/281 [00:01<00:00, 262.23it/s]\n",
            "accuracy: 0.7939, loss: 0.7505 ||: 100%|██████████| 12/12 [00:00<00:00, 519.56it/s]\n",
            "accuracy: 0.8653, loss: 0.3768 ||: 100%|██████████| 281/281 [00:01<00:00, 263.99it/s]\n",
            "accuracy: 0.7939, loss: 0.7141 ||: 100%|██████████| 12/12 [00:00<00:00, 447.90it/s]\n",
            "accuracy: 0.8662, loss: 0.3742 ||: 100%|██████████| 281/281 [00:01<00:00, 260.57it/s]\n",
            "accuracy: 0.7939, loss: 0.7059 ||: 100%|██████████| 12/12 [00:00<00:00, 447.52it/s]\n",
            "accuracy: 0.8662, loss: 0.3683 ||: 100%|██████████| 281/281 [00:01<00:00, 267.20it/s]\n",
            "accuracy: 0.7939, loss: 0.6898 ||: 100%|██████████| 12/12 [00:00<00:00, 480.35it/s]\n",
            "accuracy: 0.8675, loss: 0.3652 ||: 100%|██████████| 281/281 [00:01<00:00, 262.99it/s]\n",
            "accuracy: 0.7959, loss: 0.6909 ||: 100%|██████████| 12/12 [00:00<00:00, 420.29it/s]\n",
            "accuracy: 0.8706, loss: 0.3614 ||: 100%|██████████| 281/281 [00:01<00:00, 257.41it/s]\n",
            "accuracy: 0.7959, loss: 0.7048 ||: 100%|██████████| 12/12 [00:00<00:00, 412.21it/s]\n",
            "accuracy: 0.8702, loss: 0.3586 ||: 100%|██████████| 281/281 [00:01<00:00, 264.23it/s]\n",
            "accuracy: 0.8061, loss: 0.6886 ||: 100%|██████████| 12/12 [00:00<00:00, 428.50it/s]\n",
            "accuracy: 0.8714, loss: 0.3536 ||: 100%|██████████| 281/281 [00:01<00:00, 260.58it/s]\n",
            "accuracy: 0.8082, loss: 0.6769 ||: 100%|██████████| 12/12 [00:00<00:00, 486.38it/s]\n",
            "accuracy: 0.8722, loss: 0.3513 ||: 100%|██████████| 281/281 [00:01<00:00, 267.70it/s]\n",
            "accuracy: 0.8061, loss: 0.6901 ||: 100%|██████████| 12/12 [00:00<00:00, 488.37it/s]\n",
            "accuracy: 0.8730, loss: 0.3472 ||: 100%|██████████| 281/281 [00:01<00:00, 258.57it/s]\n",
            "accuracy: 0.8102, loss: 0.6614 ||: 100%|██████████| 12/12 [00:00<00:00, 428.74it/s]\n",
            "accuracy: 0.8744, loss: 0.3444 ||: 100%|██████████| 281/281 [00:01<00:00, 263.53it/s]\n",
            "accuracy: 0.8061, loss: 0.6581 ||: 100%|██████████| 12/12 [00:00<00:00, 392.23it/s]\n",
            "accuracy: 0.8748, loss: 0.3424 ||: 100%|██████████| 281/281 [00:01<00:00, 263.47it/s]\n",
            "accuracy: 0.8184, loss: 0.6534 ||: 100%|██████████| 12/12 [00:00<00:00, 431.00it/s]\n",
            "accuracy: 0.8764, loss: 0.3362 ||: 100%|██████████| 281/281 [00:01<00:00, 265.25it/s]\n",
            "accuracy: 0.8020, loss: 0.7643 ||: 100%|██████████| 12/12 [00:00<00:00, 480.91it/s]\n",
            "accuracy: 0.8754, loss: 0.3369 ||: 100%|██████████| 281/281 [00:01<00:00, 265.01it/s]\n",
            "accuracy: 0.8245, loss: 0.6477 ||: 100%|██████████| 12/12 [00:00<00:00, 451.31it/s]\n",
            "accuracy: 0.8772, loss: 0.3333 ||: 100%|██████████| 281/281 [00:01<00:00, 262.37it/s]\n",
            "accuracy: 0.8204, loss: 0.6513 ||: 100%|██████████| 12/12 [00:00<00:00, 506.23it/s]\n",
            "accuracy: 0.8786, loss: 0.3309 ||: 100%|██████████| 281/281 [00:01<00:00, 256.57it/s]\n",
            "accuracy: 0.8286, loss: 0.6430 ||: 100%|██████████| 12/12 [00:00<00:00, 500.98it/s]\n",
            "accuracy: 0.8813, loss: 0.3278 ||: 100%|██████████| 281/281 [00:01<00:00, 256.56it/s]\n",
            "accuracy: 0.8286, loss: 0.6315 ||: 100%|██████████| 12/12 [00:00<00:00, 451.77it/s]\n",
            "accuracy: 0.8823, loss: 0.3245 ||: 100%|██████████| 281/281 [00:01<00:00, 260.74it/s]\n",
            "accuracy: 0.8224, loss: 0.6195 ||: 100%|██████████| 12/12 [00:00<00:00, 413.25it/s]\n",
            "accuracy: 0.8805, loss: 0.3241 ||: 100%|██████████| 281/281 [00:01<00:00, 261.15it/s]\n",
            "accuracy: 0.8286, loss: 0.6270 ||: 100%|██████████| 12/12 [00:00<00:00, 442.01it/s]\n",
            "accuracy: 0.8835, loss: 0.3207 ||: 100%|██████████| 281/281 [00:01<00:00, 261.11it/s]\n",
            "accuracy: 0.8306, loss: 0.6072 ||: 100%|██████████| 12/12 [00:00<00:00, 431.89it/s]\n",
            "accuracy: 0.8869, loss: 0.3196 ||: 100%|██████████| 281/281 [00:01<00:00, 264.29it/s]\n",
            "accuracy: 0.8388, loss: 0.6160 ||: 100%|██████████| 12/12 [00:00<00:00, 397.02it/s]\n",
            "accuracy: 0.8865, loss: 0.3149 ||: 100%|██████████| 281/281 [00:01<00:00, 258.38it/s]\n",
            "accuracy: 0.8224, loss: 0.6591 ||: 100%|██████████| 12/12 [00:00<00:00, 514.92it/s]\n",
            "accuracy: 0.8881, loss: 0.3149 ||: 100%|██████████| 281/281 [00:01<00:00, 262.16it/s]\n",
            "accuracy: 0.8306, loss: 0.6323 ||: 100%|██████████| 12/12 [00:00<00:00, 386.44it/s]\n",
            "accuracy: 0.8890, loss: 0.3120 ||: 100%|██████████| 281/281 [00:01<00:00, 256.16it/s]\n",
            "accuracy: 0.8347, loss: 0.6098 ||: 100%|██████████| 12/12 [00:00<00:00, 478.29it/s]\n",
            "accuracy: 0.8895, loss: 0.3096 ||: 100%|██████████| 281/281 [00:01<00:00, 255.23it/s]\n",
            "accuracy: 0.8306, loss: 0.6071 ||: 100%|██████████| 12/12 [00:00<00:00, 409.62it/s]\n",
            "accuracy: 0.8885, loss: 0.3061 ||: 100%|██████████| 281/281 [00:01<00:00, 262.25it/s]\n",
            "accuracy: 0.8347, loss: 0.5987 ||: 100%|██████████| 12/12 [00:00<00:00, 484.13it/s]\n",
            "accuracy: 0.8915, loss: 0.3048 ||: 100%|██████████| 281/281 [00:01<00:00, 257.13it/s]\n",
            "accuracy: 0.8327, loss: 0.5961 ||: 100%|██████████| 12/12 [00:00<00:00, 501.05it/s]\n",
            "accuracy: 0.8916, loss: 0.3003 ||: 100%|██████████| 281/281 [00:01<00:00, 256.10it/s]\n",
            "accuracy: 0.8429, loss: 0.5924 ||: 100%|██████████| 12/12 [00:00<00:00, 476.44it/s]\n",
            "accuracy: 0.8916, loss: 0.3003 ||: 100%|██████████| 281/281 [00:01<00:00, 248.52it/s]\n",
            "accuracy: 0.8449, loss: 0.5825 ||: 100%|██████████| 12/12 [00:00<00:00, 451.68it/s]\n",
            "accuracy: 0.8939, loss: 0.2972 ||: 100%|██████████| 281/281 [00:01<00:00, 246.65it/s]\n",
            "accuracy: 0.8510, loss: 0.5854 ||: 100%|██████████| 12/12 [00:00<00:00, 433.89it/s]\n",
            "accuracy: 0.8947, loss: 0.2940 ||: 100%|██████████| 281/281 [00:01<00:00, 254.94it/s]\n",
            "accuracy: 0.8531, loss: 0.5693 ||: 100%|██████████| 12/12 [00:00<00:00, 427.17it/s]\n",
            "accuracy: 0.8979, loss: 0.2901 ||: 100%|██████████| 281/281 [00:01<00:00, 252.01it/s]\n",
            "accuracy: 0.8449, loss: 0.5650 ||: 100%|██████████| 12/12 [00:00<00:00, 459.21it/s]\n",
            "accuracy: 0.8984, loss: 0.2889 ||: 100%|██████████| 281/281 [00:01<00:00, 243.68it/s]\n",
            "accuracy: 0.8510, loss: 0.5673 ||: 100%|██████████| 12/12 [00:00<00:00, 392.14it/s]\n",
            "accuracy: 0.8978, loss: 0.2861 ||: 100%|██████████| 281/281 [00:01<00:00, 252.71it/s]\n",
            "accuracy: 0.8551, loss: 0.5596 ||: 100%|██████████| 12/12 [00:00<00:00, 389.75it/s]\n",
            "accuracy: 0.8997, loss: 0.2831 ||: 100%|██████████| 281/281 [00:01<00:00, 245.83it/s]\n",
            "accuracy: 0.8551, loss: 0.5569 ||: 100%|██████████| 12/12 [00:00<00:00, 424.12it/s]\n",
            "accuracy: 0.9000, loss: 0.2807 ||: 100%|██████████| 281/281 [00:01<00:00, 250.03it/s]\n",
            "accuracy: 0.8571, loss: 0.5528 ||: 100%|██████████| 12/12 [00:00<00:00, 448.64it/s]\n",
            "accuracy: 0.9009, loss: 0.2774 ||: 100%|██████████| 281/281 [00:01<00:00, 247.63it/s]\n",
            "accuracy: 0.8571, loss: 0.5540 ||: 100%|██████████| 12/12 [00:00<00:00, 457.36it/s]\n",
            "accuracy: 0.9020, loss: 0.2730 ||: 100%|██████████| 281/281 [00:01<00:00, 252.07it/s]\n",
            "accuracy: 0.8612, loss: 0.5344 ||: 100%|██████████| 12/12 [00:00<00:00, 485.31it/s]\n",
            "accuracy: 0.9036, loss: 0.2726 ||: 100%|██████████| 281/281 [00:01<00:00, 255.48it/s]\n",
            "accuracy: 0.8571, loss: 0.5385 ||: 100%|██████████| 12/12 [00:00<00:00, 478.22it/s]\n",
            "accuracy: 0.9035, loss: 0.2698 ||: 100%|██████████| 281/281 [00:01<00:00, 252.62it/s]\n",
            "accuracy: 0.8551, loss: 0.5230 ||: 100%|██████████| 12/12 [00:00<00:00, 424.88it/s]\n",
            "accuracy: 0.9047, loss: 0.2669 ||: 100%|██████████| 281/281 [00:01<00:00, 253.75it/s]\n",
            "accuracy: 0.8612, loss: 0.5226 ||: 100%|██████████| 12/12 [00:00<00:00, 416.71it/s]\n",
            "accuracy: 0.9051, loss: 0.2633 ||: 100%|██████████| 281/281 [00:01<00:00, 255.08it/s]\n",
            "accuracy: 0.8510, loss: 0.5130 ||: 100%|██████████| 12/12 [00:00<00:00, 446.47it/s]\n",
            "accuracy: 0.9066, loss: 0.2598 ||: 100%|██████████| 281/281 [00:01<00:00, 252.14it/s]\n",
            "accuracy: 0.8551, loss: 0.5057 ||: 100%|██████████| 12/12 [00:00<00:00, 392.92it/s]\n",
            "accuracy: 0.9093, loss: 0.2572 ||: 100%|██████████| 281/281 [00:01<00:00, 249.78it/s]\n",
            "accuracy: 0.8612, loss: 0.4984 ||: 100%|██████████| 12/12 [00:00<00:00, 433.81it/s]\n",
            "accuracy: 0.9095, loss: 0.2565 ||: 100%|██████████| 281/281 [00:01<00:00, 256.82it/s]\n",
            "accuracy: 0.8592, loss: 0.4929 ||: 100%|██████████| 12/12 [00:00<00:00, 502.77it/s]\n",
            "accuracy: 0.9086, loss: 0.2525 ||: 100%|██████████| 281/281 [00:01<00:00, 254.07it/s]\n",
            "accuracy: 0.8592, loss: 0.4944 ||: 100%|██████████| 12/12 [00:00<00:00, 442.71it/s]\n",
            "accuracy: 0.9120, loss: 0.2497 ||: 100%|██████████| 281/281 [00:01<00:00, 256.28it/s]\n",
            "accuracy: 0.8633, loss: 0.5108 ||: 100%|██████████| 12/12 [00:00<00:00, 449.84it/s]\n",
            "accuracy: 0.9115, loss: 0.2470 ||: 100%|██████████| 281/281 [00:01<00:00, 253.80it/s]\n",
            "accuracy: 0.8653, loss: 0.4898 ||: 100%|██████████| 12/12 [00:00<00:00, 439.45it/s]\n",
            "accuracy: 0.9121, loss: 0.2460 ||: 100%|██████████| 281/281 [00:01<00:00, 243.53it/s]\n",
            "accuracy: 0.8633, loss: 0.4747 ||: 100%|██████████| 12/12 [00:00<00:00, 379.39it/s]\n",
            "accuracy: 0.9135, loss: 0.2415 ||: 100%|██████████| 281/281 [00:01<00:00, 259.13it/s]\n",
            "accuracy: 0.8653, loss: 0.4826 ||: 100%|██████████| 12/12 [00:00<00:00, 452.84it/s]\n",
            "accuracy: 0.9135, loss: 0.2405 ||: 100%|██████████| 281/281 [00:01<00:00, 260.71it/s]\n",
            "accuracy: 0.8694, loss: 0.4659 ||: 100%|██████████| 12/12 [00:00<00:00, 446.14it/s]\n",
            "accuracy: 0.9151, loss: 0.2392 ||: 100%|██████████| 281/281 [00:01<00:00, 257.70it/s]\n",
            "accuracy: 0.8653, loss: 0.4743 ||: 100%|██████████| 12/12 [00:00<00:00, 449.63it/s]\n",
            "accuracy: 0.9154, loss: 0.2369 ||: 100%|██████████| 281/281 [00:01<00:00, 257.43it/s]\n",
            "accuracy: 0.8673, loss: 0.4628 ||: 100%|██████████| 12/12 [00:00<00:00, 413.39it/s]\n",
            "accuracy: 0.9158, loss: 0.2337 ||: 100%|██████████| 281/281 [00:01<00:00, 253.40it/s]\n",
            "accuracy: 0.8673, loss: 0.4687 ||: 100%|██████████| 12/12 [00:00<00:00, 443.38it/s]\n",
            "accuracy: 0.9163, loss: 0.2313 ||: 100%|██████████| 281/281 [00:01<00:00, 254.22it/s]\n",
            "accuracy: 0.8653, loss: 0.4555 ||: 100%|██████████| 12/12 [00:00<00:00, 458.43it/s]\n",
            "accuracy: 0.9174, loss: 0.2301 ||: 100%|██████████| 281/281 [00:01<00:00, 245.08it/s]\n",
            "accuracy: 0.8673, loss: 0.4608 ||: 100%|██████████| 12/12 [00:00<00:00, 389.72it/s]\n",
            "accuracy: 0.9184, loss: 0.2269 ||: 100%|██████████| 281/281 [00:01<00:00, 258.98it/s]\n",
            "accuracy: 0.8673, loss: 0.4538 ||: 100%|██████████| 12/12 [00:00<00:00, 430.63it/s]\n",
            "accuracy: 0.9179, loss: 0.2261 ||: 100%|██████████| 281/281 [00:01<00:00, 253.42it/s]\n",
            "accuracy: 0.8714, loss: 0.4370 ||: 100%|██████████| 12/12 [00:00<00:00, 392.66it/s]\n",
            "accuracy: 0.9177, loss: 0.2230 ||: 100%|██████████| 281/281 [00:01<00:00, 252.39it/s]\n",
            "accuracy: 0.8694, loss: 0.4411 ||: 100%|██████████| 12/12 [00:00<00:00, 429.68it/s]\n",
            "accuracy: 0.9191, loss: 0.2219 ||: 100%|██████████| 281/281 [00:01<00:00, 252.88it/s]\n",
            "accuracy: 0.8673, loss: 0.4445 ||: 100%|██████████| 12/12 [00:00<00:00, 409.99it/s]\n",
            "accuracy: 0.9189, loss: 0.2195 ||: 100%|██████████| 281/281 [00:01<00:00, 253.44it/s]\n",
            "accuracy: 0.8694, loss: 0.4334 ||: 100%|██████████| 12/12 [00:00<00:00, 440.39it/s]\n",
            "accuracy: 0.9198, loss: 0.2169 ||: 100%|██████████| 281/281 [00:01<00:00, 255.27it/s]\n",
            "accuracy: 0.8694, loss: 0.4336 ||: 100%|██████████| 12/12 [00:00<00:00, 450.70it/s]\n",
            "accuracy: 0.9196, loss: 0.2153 ||: 100%|██████████| 281/281 [00:01<00:00, 255.81it/s]\n",
            "accuracy: 0.8694, loss: 0.4232 ||: 100%|██████████| 12/12 [00:00<00:00, 432.66it/s]\n",
            "accuracy: 0.9196, loss: 0.2135 ||: 100%|██████████| 281/281 [00:01<00:00, 253.81it/s]\n",
            "accuracy: 0.8755, loss: 0.4180 ||: 100%|██████████| 12/12 [00:00<00:00, 471.15it/s]\n",
            "accuracy: 0.9210, loss: 0.2112 ||: 100%|██████████| 281/281 [00:01<00:00, 249.74it/s]\n",
            "accuracy: 0.8755, loss: 0.4114 ||: 100%|██████████| 12/12 [00:00<00:00, 467.12it/s]\n",
            "accuracy: 0.9209, loss: 0.2096 ||: 100%|██████████| 281/281 [00:01<00:00, 249.68it/s]\n",
            "accuracy: 0.8735, loss: 0.4237 ||: 100%|██████████| 12/12 [00:00<00:00, 465.40it/s]\n",
            "accuracy: 0.9209, loss: 0.2079 ||: 100%|██████████| 281/281 [00:01<00:00, 256.52it/s]\n",
            "accuracy: 0.8735, loss: 0.4170 ||: 100%|██████████| 12/12 [00:00<00:00, 458.01it/s]\n",
            "accuracy: 0.9214, loss: 0.2062 ||: 100%|██████████| 281/281 [00:01<00:00, 254.75it/s]\n",
            "accuracy: 0.8694, loss: 0.4159 ||: 100%|██████████| 12/12 [00:00<00:00, 472.05it/s]\n",
            "accuracy: 0.9221, loss: 0.2028 ||: 100%|██████████| 281/281 [00:01<00:00, 255.40it/s]\n",
            "accuracy: 0.8714, loss: 0.4118 ||: 100%|██████████| 12/12 [00:00<00:00, 442.39it/s]\n",
            "accuracy: 0.9228, loss: 0.2020 ||: 100%|██████████| 281/281 [00:01<00:00, 256.14it/s]\n",
            "accuracy: 0.8714, loss: 0.3893 ||: 100%|██████████| 12/12 [00:00<00:00, 489.21it/s]\n",
            "accuracy: 0.9219, loss: 0.2029 ||: 100%|██████████| 281/281 [00:01<00:00, 247.70it/s]\n",
            "accuracy: 0.8755, loss: 0.3968 ||: 100%|██████████| 12/12 [00:00<00:00, 422.08it/s]\n",
            "accuracy: 0.9239, loss: 0.1989 ||: 100%|██████████| 281/281 [00:01<00:00, 255.16it/s]\n",
            "accuracy: 0.8776, loss: 0.3862 ||: 100%|██████████| 12/12 [00:00<00:00, 430.96it/s]\n",
            "accuracy: 0.9239, loss: 0.1966 ||: 100%|██████████| 281/281 [00:01<00:00, 246.59it/s]\n",
            "accuracy: 0.8735, loss: 0.3907 ||: 100%|██████████| 12/12 [00:00<00:00, 365.75it/s]\n",
            "accuracy: 0.9243, loss: 0.1968 ||: 100%|██████████| 281/281 [00:01<00:00, 260.05it/s]\n",
            "accuracy: 0.8796, loss: 0.3865 ||: 100%|██████████| 12/12 [00:00<00:00, 393.10it/s]\n",
            "accuracy: 0.9248, loss: 0.1941 ||: 100%|██████████| 281/281 [00:01<00:00, 249.58it/s]\n",
            "accuracy: 0.8796, loss: 0.3852 ||: 100%|██████████| 12/12 [00:00<00:00, 498.31it/s]\n",
            "accuracy: 0.9259, loss: 0.1930 ||: 100%|██████████| 281/281 [00:01<00:00, 250.44it/s]\n",
            "accuracy: 0.8776, loss: 0.3784 ||: 100%|██████████| 12/12 [00:00<00:00, 481.51it/s]\n",
            "accuracy: 0.9247, loss: 0.1912 ||: 100%|██████████| 281/281 [00:01<00:00, 256.01it/s]\n",
            "accuracy: 0.8776, loss: 0.3726 ||: 100%|██████████| 12/12 [00:00<00:00, 493.94it/s]\n",
            "accuracy: 0.9264, loss: 0.1902 ||: 100%|██████████| 281/281 [00:01<00:00, 249.21it/s]\n",
            "accuracy: 0.8776, loss: 0.3711 ||: 100%|██████████| 12/12 [00:00<00:00, 465.91it/s]\n"
          ],
          "name": "stderr"
        },
        {
          "output_type": "execute_result",
          "data": {
            "text/plain": [
              "{'best_epoch': 99,\n",
              " 'best_validation_accuracy': 0.8775510204081632,\n",
              " 'best_validation_loss': 0.371090716017837,\n",
              " 'epoch': 99,\n",
              " 'peak_cpu_memory_MB': 3230.692,\n",
              " 'peak_gpu_0_memory_MB': 1060,\n",
              " 'training_accuracy': 0.9263849168520284,\n",
              " 'training_cpu_memory_MB': 3230.692,\n",
              " 'training_duration': '0:02:00.117594',\n",
              " 'training_epochs': 99,\n",
              " 'training_gpu_0_memory_MB': 1060,\n",
              " 'training_loss': 0.1901727049535694,\n",
              " 'training_start_epoch': 0,\n",
              " 'validation_accuracy': 0.8775510204081632,\n",
              " 'validation_loss': 0.371090716017837}"
            ]
          },
          "metadata": {
            "tags": []
          },
          "execution_count": 5
        }
      ]
    },
    {
      "cell_type": "markdown",
      "metadata": {
        "id": "mwN6ctqVV0tf"
      },
      "source": [
        "## Evaluation"
      ]
    },
    {
      "cell_type": "markdown",
      "metadata": {
        "id": "qkDs_UdIeuFz"
      },
      "source": [
        "The simple code below loops over the validation set, applying the model to each exmaple and collecting out the input token, gold-standard output, and model output. You can see from these methods how to access ground truth and model outputs for evaluation."
      ]
    },
    {
      "cell_type": "code",
      "metadata": {
        "id": "S0bE4fmLik08",
        "colab": {
          "base_uri": "https://localhost:8080/"
        },
        "outputId": "05853ed9-ab58-4a92-ec5c-097df1cebeed"
      },
      "source": [
        "def tag_sentence(s):\n",
        "  tag_ids = np.argmax(model.forward_on_instance(s)['tag_logits'], axis=-1)\n",
        "  fields = zip(s['tokens'], s['tags'], [model.vocab.get_token_from_index(i, 'labels') for i in tag_ids])\n",
        "  return list(fields)\n",
        "\n",
        "baseline_output = [tag_sentence(i) for i in validation_dataset]\n",
        "## Show the first example\n",
        "baseline_output[0]"
      ],
      "execution_count": 6,
      "outputs": [
        {
          "output_type": "execute_result",
          "data": {
            "text/plain": [
              "[(With, 'O', 'O'),\n",
              " (a, 'O', 'O'),\n",
              " (wave, 'O', 'O'),\n",
              " (of, 'O', 'O'),\n",
              " (his, 'O', 'O'),\n",
              " (hand, 'O', 'O'),\n",
              " (,, 'O', 'O'),\n",
              " (Peng, 'B-PERSON', 'B-PERSON'),\n",
              " (Dehuai, 'I-PERSON', 'I-PERSON'),\n",
              " (said, 'O', 'O'),\n",
              " (that, 'O', 'O'),\n",
              " (despite, 'O', 'O'),\n",
              " (being, 'O', 'O'),\n",
              " (over, 'O', 'O'),\n",
              " (100, 'B-CARDINAL', 'B-CARDINAL'),\n",
              " (regiments, 'O', 'O'),\n",
              " (,, 'O', 'O'),\n",
              " (let, 'O', 'O'),\n",
              " ('s, 'O', 'O'),\n",
              " (call, 'O', 'O'),\n",
              " (this, 'O', 'O'),\n",
              " (campaign, 'O', 'O'),\n",
              " (the, 'B-EVENT', 'O'),\n",
              " (Hundred, 'I-EVENT', 'I-EVENT'),\n",
              " (Regiments, 'I-EVENT', 'I-EVENT'),\n",
              " (Offensive, 'I-EVENT', 'I-EVENT'),\n",
              " (., 'O', 'O')]"
            ]
          },
          "metadata": {
            "tags": []
          },
          "execution_count": 6
        }
      ]
    },
    {
      "cell_type": "markdown",
      "metadata": {
        "id": "BpYMx7RVfCyT"
      },
      "source": [
        "Now, you can implement two evaluation functions: `violations` and `span_stats`."
      ]
    },
    {
      "cell_type": "code",
      "metadata": {
        "id": "P042A2Ofg3wa",
        "colab": {
          "base_uri": "https://localhost:8080/"
        },
        "outputId": "f1c26564-cdd0-4cdb-ab37-df1a77320fc7"
      },
      "source": [
        "# TODO: count the number of NER label violations,\n",
        "# such as O followed by I-TYPE or B-TYPE followed by\n",
        "# I-OTHER_TYPE\n",
        "# Take tagger output as input\n",
        "def violations(tagged):\n",
        "  count = 0\n",
        "  for eachSentence in tagged:\n",
        "    for i in range(len(eachSentence)):\n",
        "        # check prediction token\n",
        "        curTok = eachSentence[i][2]\n",
        "        # if first item in the list is I, it's a violation\n",
        "        if i == 0:\n",
        "            if curTok.startswith(\"I\"):\n",
        "                count += 1\n",
        "        else:\n",
        "            # check last token if the current token is I\n",
        "            if curTok.startswith(\"I\"):\n",
        "                lastTok = eachSentence[i - 1][2]\n",
        "                if lastTok.startswith(\"O\") or (lastTok.startswith(\"B\") and curTok[2:] != lastTok[2:]) or (lastTok.startswith(\"I\") and curTok[2:] != lastTok[2:]):\n",
        "                    count += 1\n",
        "  return count\n",
        "\n",
        "# TODO: return the span-level precision, recall, and F1\n",
        "# Only count valid spans that start with a B tag,\n",
        "# followed by zero or more I tags of the same type.\n",
        "# This is harsher than the token-level metric that the\n",
        "# LSTM was trained to optimize, but it is the standard way\n",
        "# of evaluating NER systems.\n",
        "# Take tagger output as input\n",
        "def span_stats(tagged):\n",
        "  gold_spans = 0\n",
        "  pred_spans = 0\n",
        "  true_positive = 0\n",
        "\n",
        "  for i in range(len(tagged)):   #check each sentence in tagged\n",
        "    for j in range(len(tagged[i])):   #check each token in each sentence \n",
        "      if tagged[i][j][1].startswith('B'):  #if the true_tag of the token starts with B\n",
        "        gold_spans += 1\n",
        "\n",
        "      if tagged[i][j][2].startswith('B'):  #if the pred_tag  of the token starts with B    \n",
        "        pred_spans += 1\n",
        "\n",
        "      if tagged[i][j][1].startswith('B') and tagged[i][j][2].startswith('B'):\n",
        "        if j < (len(tagged[i])-1):\n",
        "          k = j + 1       #index of the next token.\n",
        "\n",
        "        #if the next tag is an 'O' and it agrees with the gold standard -> true_positive increases 1:\n",
        "        if tagged[i][k][2].startswith('O') and tagged[i][k][2] == tagged[i][k][1]:\n",
        "          true_positive += 1\n",
        "\n",
        "        #if the next tag is a 'B-Type' and it agrees with the gold standard -> true_positive increases 1::\n",
        "        elif tagged[i][k][2].startswith('B') and tagged[i][k][2] == tagged[i][k][1]:\n",
        "          true_positive += 1\n",
        "\n",
        "        #if the next tag is an I-type\n",
        "        elif tagged[i][k][2].startswith('I'):\n",
        "          #continue checking the next tags if a tag is I-Type and has the same TYPE of the current B tag\n",
        "          while tagged[i][k][2].startswith('I') and tagged[i][k][2][2:] == tagged[i][j][2][2:]:\n",
        "            #check if the I-TYPE agrees with the gold standard:\n",
        "            if tagged[i][k][2] == tagged[i][k][1]:          #I-org, I-org\n",
        "              if k < (len(tagged[i])-1) : \n",
        "                k += 1\n",
        "            #otherwise, it is invalid I-TYPE, thus the span is invalid.\n",
        "            elif tagged[i][k][2] != tagged[i][k][1]:  # O,I-Org\n",
        "              true_positive += 1\n",
        "              break\n",
        "            else: \n",
        "              break\n",
        "\n",
        "          #the span ends at the end of the sentence\n",
        "          if k == len(tagged[i]):\n",
        "            true_positive += 1\n",
        "\n",
        "          #end a span with an 'O' and agrees with the gold standard\n",
        "          elif tagged[i][k][2] == tagged[i][k][1] and tagged[i][k][2].startswith('O'):\n",
        "            true_positive += 1\n",
        "\n",
        "          #start a new span and agrees with the gold standard\n",
        "          elif tagged[i][k][2] == tagged[i][k][1] and tagged[i][k][2].startswith('B'):\n",
        "            true_positive += 1\n",
        "  \n",
        "  print(\"true_positive\", true_positive)\n",
        "  print(\"gold: \", gold_spans)\n",
        "  print(\"predicted: \",pred_spans)\n",
        "\n",
        "  precision = true_positive/gold_spans\n",
        "  recall = true_positive/pred_spans \n",
        "  f1 = (2*recall*precision)/(recall + precision)\n",
        "\n",
        "  return {'precision': precision,\n",
        "          'recall': recall,\n",
        "          'f1': f1}\n",
        "\n",
        "## You can check how many violations are made by the model output in predictor.\n",
        "print(violations(baseline_output))\n",
        "\n",
        "metrics = span_stats(baseline_output)"
      ],
      "execution_count": 106,
      "outputs": [
        {
          "output_type": "stream",
          "text": [
            "33\n",
            "true_positive 12\n",
            "gold:  43\n",
            "predicted:  28\n"
          ],
          "name": "stdout"
        }
      ]
    },
    {
      "cell_type": "markdown",
      "metadata": {
        "id": "fX7-quD2hnzB"
      },
      "source": [
        "## Decoding"
      ]
    },
    {
      "cell_type": "markdown",
      "metadata": {
        "id": "WCgW9d9ohsGv"
      },
      "source": [
        "Now you can finally implement the simple Viterbi decoder. The `model` object, when applied to an input sentence, first calculates the scores for each possible output tag for each token. See the expression `model.forward_on_instance(s)['tag_logits']` in the code above.\n",
        "\n",
        "Then, you will construct a transition matrix. You can use the code below to get a list of the tags the model knows about. For a set of K tags, construct a K-by-K matrix with a log(1)=0 when a transition between a given tag pair is valid and a log(0)=-infinity otherwise.\n",
        "\n",
        "Finally, implement a Viterbi decoder that takes the model object and a dataset object and outputs tagged data, just like the `tag_sentence` function above. It should use the Viterbi algorithm with the (max, plus) semiring. You'll be working with sums of log probabilities instead of products of probabilties.\n",
        "\n",
        "Run your `violations` function on the output of this decoder to make sure that there are no invalid tag transitions. Also, compare the span-level metrics on `baseline_output` and your new output using your `span_stats` function."
      ]
    },
    {
      "cell_type": "code",
      "metadata": {
        "id": "nlP8vZhiS68K"
      },
      "source": [
        "# This code shows how to map from output vector components to labels\n",
        "ind_tag = vocab.get_index_to_token_vocabulary('labels') "
      ],
      "execution_count": 107,
      "outputs": []
    },
    {
      "cell_type": "code",
      "metadata": {
        "id": "p69x6cSuMweI"
      },
      "source": [
        "def create_transition_matrix():\n",
        "  transition_matrix = np.zeros([len(ind_tag), len(ind_tag)])\n",
        "  \n",
        "  def is_a_violation(row_tag,col_tag):\n",
        "    #row then col\n",
        "    #valid cases:  B then I right type, B then O, O then B, B then O, I then I right type\n",
        "    #invalid cases:B then I wrong type, O then I, I then I wrong type\n",
        "    if col_tag.startswith(\"I\"):\n",
        "      if row_tag.startswith(\"O\") or (row_tag.startswith(\"B\") and col_tag[2:] != row_tag[2:]) or (row_tag.startswith(\"I\") and col_tag[2:] != row_tag[2:]):\n",
        "        return True\n",
        "    return False\n",
        "\n",
        "  for tag_index_1 in range(len(ind_tag)):\n",
        "    for tag_index_2 in range(len(ind_tag)):\n",
        "      if is_a_violation(ind_tag[tag_index_1], ind_tag[tag_index_2]): \n",
        "        transition_matrix[tag_index_1][tag_index_2] = np.log(0)\n",
        "      else:\n",
        "        transition_matrix[tag_index_1][tag_index_2] = np.log(1)\n",
        "  return transition_matrix.transpose()\n",
        "\n",
        "\n",
        "\n",
        "def viterbi_decoding(s):\n",
        "    '''\n",
        "      reference: https://ocw.mit.edu/courses/electrical-engineering-and-computer-science/6-096-algorithms-for-computational-biology-spring-2005/lecture-notes/lecture7.pdf\n",
        "    '''\n",
        "    #create transition matrix \n",
        "    transition_matrix = create_transition_matrix()\n",
        "\n",
        "    #create transition matrix\n",
        "    emission_matrix = model.forward_on_instance(s)['tag_logits']\n",
        "    emission_matrix = emission_matrix.transpose()\n",
        "    tag_num = emission_matrix.shape[0]\n",
        "    word_num = emission_matrix.shape[1]\n",
        "\n",
        "    #initialize dp_table to keep track the max values \n",
        "    viterbi = np.zeros([tag_num, word_num])    #34, num_of_word\n",
        "    #initialize a sequence list to keep track the indices of the max values\n",
        "    tag_sequence = []\n",
        "    tag_indices = [0]*word_num   #list of indices corresponding to each word in a sentence\n",
        "    \n",
        "    # assign initial weights to the first word. \n",
        "    initial_weight = np.add(emission_matrix[:, 0], transition_matrix)\n",
        "    viterbi[:, 0] = initial_weight[:,0]\n",
        "    \n",
        "    for t in range(1, word_num):\n",
        "        temp_viterbi = np.add(viterbi[:, t-1], transition_matrix)  #add each column(word) to the transition matrix. Output is 34x34 matrix\n",
        "        max_value = temp_viterbi.max(1)    #array of max values in the temp_viterbi matrix\n",
        "        max_indices = temp_viterbi.argmax(1)   #array of indices of the above max values in the temp_viterbi matrix\n",
        "        \n",
        "        viterbi[:, t] = np.add(max_value, emission_matrix[:, t])     #add the max value array with the emission matrix then update the current column(word).\n",
        "        tag_sequence.append(max_indices)   #add each array of indices to the seqquence list \n",
        "\n",
        "    #get the index of the largest log of a tag from the last words     \n",
        "    index = viterbi[:, word_num - 1].argmax()\n",
        "    \n",
        "    #tracing backward the index of the most likely tag for each word \n",
        "    for k in range(word_num - 1, -1 , -1):\n",
        "        prev_tag = tag_sequence[k - 1][index]\n",
        "        tag_indices[k] = index\n",
        "        index = prev_tag\n",
        "\n",
        "    best_score  = np.max(viterbi[:, word_num - 1])   \n",
        "    return best_score, tag_indices"
      ],
      "execution_count": 128,
      "outputs": []
    },
    {
      "cell_type": "code",
      "metadata": {
        "colab": {
          "base_uri": "https://localhost:8080/"
        },
        "id": "WApipD_FODy7",
        "outputId": "e8e03dcd-bb3f-4a17-f9ae-a2a36771bc42"
      },
      "source": [
        "my_baseline2 = []\n",
        "for s in validation_dataset:\n",
        "   \n",
        "  score, seq = viterbi_decoding(s)\n",
        "  fields = zip(s['tokens'], s['tags'], [model.vocab.get_token_from_index(i, 'labels') for i in seq])\n",
        "  my_baseline2.append(list(fields))\n",
        "\n",
        "res2 = violations(my_baseline2)\n",
        "stats2 = span_stats(my_baseline2)\n",
        "print('volations: {}'.format(res2))\n",
        "print(stats2)"
      ],
      "execution_count": 129,
      "outputs": [
        {
          "output_type": "stream",
          "text": [
            "true_positive 33\n",
            "gold:  43\n",
            "predicted:  45\n",
            "volations: 0\n",
            "{'precision': 0.7674418604651163, 'recall': 0.7333333333333333, 'f1': 0.7499999999999999}\n"
          ],
          "name": "stdout"
        },
        {
          "output_type": "stream",
          "text": [
            "/usr/local/lib/python3.7/dist-packages/ipykernel_launcher.py:16: RuntimeWarning: divide by zero encountered in log\n",
            "  app.launch_new_instance()\n"
          ],
          "name": "stderr"
        }
      ]
    },
    {
      "cell_type": "code",
      "metadata": {
        "id": "8qPtCVKJeDAz"
      },
      "source": [
        ""
      ],
      "execution_count": null,
      "outputs": []
    },
    {
      "cell_type": "code",
      "metadata": {
        "id": "ZAfWGAG1rzwv"
      },
      "source": [
        ""
      ],
      "execution_count": null,
      "outputs": []
    }
  ]
}