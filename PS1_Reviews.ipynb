{
 "cells": [
  {
   "cell_type": "markdown",
   "metadata": {
    "colab_type": "text",
    "id": "view-in-github"
   },
   "source": [
    "<a href=\"https://colab.research.google.com/github/mutherr/CS6120-PS1/blob/master/PS1_Reviews.ipynb\" target=\"_parent\"><img src=\"https://colab.research.google.com/assets/colab-badge.svg\" alt=\"Open In Colab\"/></a>"
   ]
  },
  {
   "cell_type": "markdown",
   "metadata": {
    "id": "Jc2R3x6QSIFi"
   },
   "source": [
    "In this experiment, you will explore the accuracy of sentiment classificaiton using different feature representations of text documents.\n",
    "\n",
    "First, you will implement `createBasicFeatures`, which creates a sparse matrix representation of a collection of documents. For this exercise, you should have a feature for each word containing at least one alphabetic character. You may use the `numpy` and `sklearn` packages to help with implementing a sparse matrix.\n",
    "\n",
    "Then, you will implement `createFancyFeatures`, which can specify at any other features you choose to help improve performance on the classification task.\n",
    "\n",
    "The two code blocks at the end train and evaluate two models—logistic regression with L1 and L2 regularization—using your featurization functions. Besides held-out classification accuracy with 10-fold cross-validation, you will also see the features in each class given high weights by the model.\n",
    "\n",
    "A helpful resource for getting up to speed with vector representations of documents is the first two chapters of Delip Rao and Brian McMahan, _Natural Language Processing with PyTorch_, O'Reilly, 2019.  You should be able to <a href=\"https://learning.oreilly.com/library/view/natural-language-processing/9781491978221/\">read it online</a> via the Northeastern Library's subscription using a <tt>northeastern.edu</tt> email address."
   ]
  },
  {
   "cell_type": "code",
   "execution_count": 1,
   "metadata": {
    "id": "AdVS67_HNRmW"
   },
   "outputs": [
    {
     "name": "stderr",
     "output_type": "stream",
     "text": [
      "[nltk_data] Error loading punkt: <urlopen error [Errno 11001]\n",
      "[nltk_data]     getaddrinfo failed>\n"
     ]
    },
    {
     "data": {
      "text/plain": [
       "False"
      ]
     },
     "execution_count": 1,
     "metadata": {},
     "output_type": "execute_result"
    }
   ],
   "source": [
    "import json\n",
    "import requests\n",
    "from sklearn.linear_model import LogisticRegression\n",
    "from sklearn.model_selection import cross_validate,LeaveOneOut,KFold\n",
    "import numpy as np\n",
    "\n",
    "import nltk\n",
    "from nltk.stem.snowball import SnowballStemmer\n",
    "nltk.download('punkt')\n",
    "\n"
   ]
  },
  {
   "cell_type": "code",
   "execution_count": 2,
   "metadata": {
    "cellView": "both",
    "id": "PzjMY8fYQbB6"
   },
   "outputs": [],
   "source": [
    "# read in the movie review corpus\n",
    "def readReviews():\n",
    "    raw = requests.get(\"https://raw.githubusercontent.com/mutherr/CS6120-PS1-data/master/cornell_reviews.json\").text.strip()\n",
    "    corpus = [json.loads(line) for line in raw.split(\"\\n\")]\n",
    "\n",
    "    return corpus"
   ]
  },
  {
   "cell_type": "markdown",
   "metadata": {
    "id": "Qvd3I95FT01D"
   },
   "source": [
    "This is where you will implement two functions to featurize the data."
   ]
  },
  {
   "cell_type": "code",
   "execution_count": 3,
   "metadata": {
    "id": "039fPQcF7OkN"
   },
   "outputs": [],
   "source": [
    "# NB: The current contents are for testing only\n",
    "# This function should return: \n",
    "#  -a sparse numpy matrix of document features\n",
    "#  -a list of the correct class for each document\n",
    "#  -a list of the vocabulary used by the features, such that the ith term of the\n",
    "#    list is the word whose counts appear in the ith column of the matrix. \n",
    "\n",
    "# This function should create a feature representation using all tokens that\n",
    "# contain an alphabetic character.\n",
    "def createBasicFeatures(corpus):\n",
    "    #Your code here\n",
    "  \n",
    "    return texts,classes,vocab\n",
    "\n",
    "# This function can add other features you want that help classification\n",
    "# accuracy, such as bigrams, word prefixes and suffixes, etc.\n",
    "def createFancyFeatures(corpus):\n",
    "    #Your code here\n",
    "\n",
    "    return texts,classes,vocab"
   ]
  },
  {
   "cell_type": "code",
   "execution_count": 4,
   "metadata": {
    "id": "KfTBqBltXe7Y"
   },
   "outputs": [],
   "source": [
    "# given a numpy matrix representation of the features for the training set, the \n",
    "# vector of true classes for each example, and the vocabulary as described \n",
    "# above, this computes the accuracy of the model using leave one out cross \n",
    "# validation and reports the most indicative features for each class\n",
    "\n",
    "def evaluateModel(X,y,vocab,penalty=\"l1\"):\n",
    "    # create and fit the model\n",
    "    model = LogisticRegression(penalty=penalty,solver=\"liblinear\")\n",
    "    results = cross_validate(model,X,y,cv=KFold(n_splits=10, shuffle=True, random_state=1))\n",
    "\n",
    "    # determine the average accuracy\n",
    "    scores = results[\"test_score\"]\n",
    "    avg_score = sum(scores)/len(scores)\n",
    "\n",
    "    # determine the most informative features\n",
    "    # this requires us to fit the model to everything, because we need a\n",
    "    # single model to draw coefficients from, rather than 26\n",
    "    model.fit(X,y)\n",
    "    class0_weight_sorted = model.coef_[0, :].argsort()\n",
    "    class1_weight_sorted = (-model.coef_[0, :]).argsort()\n",
    "\n",
    "    termsToTake = 20\n",
    "    class0_indicators = [vocab[i] for i in class0_weight_sorted[:termsToTake]]\n",
    "    class1_indicators = [vocab[i] for i in class1_weight_sorted[:termsToTake]]\n",
    "\n",
    "    if model.classes_[0] == \"pos\":\n",
    "        return avg_score,class0_indicators,class1_indicators\n",
    "    else:\n",
    "        return avg_score,class1_indicators,class0_indicators\n",
    "\n",
    "def runEvaluation(X,y,vocab):\n",
    "    print(\"----------L1 Norm-----------\")\n",
    "    avg_score,pos_indicators,neg_indicators = evaluateModel(X,y,vocab,\"l1\")\n",
    "    print(\"The model's average accuracy is %f\"%avg_score)\n",
    "    print(\"The most informative terms for pos are: %s\"%pos_indicators)\n",
    "    print(\"The most informative terms for neg are: %s\"%neg_indicators)\n",
    "    #this call will fit a model with L2 normalization\n",
    "    print(\"----------L2 Norm-----------\")\n",
    "    avg_score,pos_indicators,neg_indicators = evaluateModel(X,y,vocab,\"l2\")\n",
    "    print(\"The model's average accuracy is %f\"%avg_score)\n",
    "    print(\"The most informative terms for pos are: %s\"%pos_indicators)\n",
    "    print(\"The most informative terms for neg are: %s\"%neg_indicators)"
   ]
  },
  {
   "cell_type": "code",
   "execution_count": 9,
   "metadata": {
    "id": "VWWq5VgmECKV"
   },
   "outputs": [],
   "source": [
    "corpus = readReviews()"
   ]
  },
  {
   "cell_type": "code",
   "execution_count": 10,
   "metadata": {},
   "outputs": [],
   "source": [
    "classes = []\n",
    "texts = []\n",
    "for item in corpus:\n",
    "    classes.append(item['class'])\n",
    "    texts.append(item['text'])\n",
    "    "
   ]
  },
  {
   "cell_type": "code",
   "execution_count": 11,
   "metadata": {},
   "outputs": [
    {
     "data": {
      "text/plain": [
       "'plot : two teen couples go to a church party , drink and then drive . they get into an accident . one of the guys dies , but his girlfriend continues to see him in her life , and has nightmares . what\\'s the deal ? watch the movie and \" sorta \" find out . . . critique : a mind-fuck movie for the teen generation that touches on a very cool idea , but presents it in a very bad package . which is what makes this review an even harder one to write , since i generally applaud films which attempt to break the mold , mess with your head and such ( lost highway & memento ) , but there are good and bad ways of making all types of films , and these folks just didn\\'t snag this one correctly . they seem to have taken this pretty neat concept , but executed it terribly . so what are the problems with the movie ? well , its main problem is that it\\'s simply too jumbled . it starts off \" normal \" but then downshifts into this \" fantasy \" world in which you , as an audience member , have no idea what\\'s going on . there are dreams , there are characters coming back from the dead , there are others who look like the dead , there are strange apparitions , there are disappearances , there are a looooot of chase scenes , there are tons of weird things that happen , and most of it is simply not explained . now i personally don\\'t mind trying to unravel a film every now and then , but when all it does is give me the same clue over and over again , i get kind of fed up after a while , which is this film\\'s biggest problem . it\\'s obviously got this big secret to hide , but it seems to want to hide it completely until its final five minutes . and do they make things entertaining , thrilling or even engaging , in the meantime ? not really . the sad part is that the arrow and i both dig on flicks like this , so we actually figured most of it out by the half-way point , so all of the strangeness after that did start to make a little bit of sense , but it still didn\\'t the make the film all that more entertaining . i guess the bottom line with movies like this is that you should always make sure that the audience is \" into it \" even before they are given the secret password to enter your world of understanding . i mean , showing melissa sagemiller running away from visions for about 20 minutes throughout the movie is just plain lazy ! ! okay , we get it . . . there are people chasing her and we don\\'t know who they are . do we really need to see it over and over again ? how about giving us different scenes offering further insight into all of the strangeness going down in the movie ? apparently , the studio took this film away from its director and chopped it up themselves , and it shows . there might\\'ve been a pretty decent teen mind-fuck movie in here somewhere , but i guess \" the suits \" decided that turning it into a music video with little edge , would make more sense . the actors are pretty good for the most part , although wes bentley just seemed to be playing the exact same character that he did in american beauty , only in a new neighborhood . but my biggest kudos go out to sagemiller , who holds her own throughout the entire film , and actually has you feeling her character\\'s unraveling . overall , the film doesn\\'t stick because it doesn\\'t entertain , it\\'s confusing , it rarely excites and it feels pretty redundant for most of its runtime , despite a pretty cool ending and explanation to all of the craziness that came before it . oh , and by the way , this is not a horror or teen slasher flick . . . it\\'s just packaged to look that way because someone is apparently assuming that the genre is still hot with the kids . it also wrapped production two years ago and has been sitting on the shelves ever since . whatever . . . skip it ! where\\'s joblo coming from ? a nightmare of elm street 3 ( 7/10 ) - blair witch 2 ( 7/10 ) - the crow ( 9/10 ) - the crow : salvation ( 4/10 ) - lost highway ( 10/10 ) - memento ( 10/10 ) - the others ( 9/10 ) - stir of echoes ( 8/10 ) '"
      ]
     },
     "execution_count": 11,
     "metadata": {},
     "output_type": "execute_result"
    }
   ],
   "source": [
    "texts[0]"
   ]
  },
  {
   "cell_type": "code",
   "execution_count": 12,
   "metadata": {},
   "outputs": [
    {
     "name": "stderr",
     "output_type": "stream",
     "text": [
      "[nltk_data] Downloading package averaged_perceptron_tagger to\n",
      "[nltk_data]     C:\\Users\\hongt\\AppData\\Roaming\\nltk_data...\n",
      "[nltk_data]   Package averaged_perceptron_tagger is already up-to-\n",
      "[nltk_data]       date!\n"
     ]
    },
    {
     "data": {
      "text/plain": [
       "True"
      ]
     },
     "execution_count": 12,
     "metadata": {},
     "output_type": "execute_result"
    }
   ],
   "source": [
    "nltk.download('averaged_perceptron_tagger')"
   ]
  },
  {
   "cell_type": "code",
   "execution_count": 13,
   "metadata": {},
   "outputs": [
    {
     "ename": "NameError",
     "evalue": "name 'text1' is not defined",
     "output_type": "error",
     "traceback": [
      "\u001b[1;31m---------------------------------------------------------------------------\u001b[0m",
      "\u001b[1;31mNameError\u001b[0m                                 Traceback (most recent call last)",
      "\u001b[1;32m<ipython-input-13-a1b4c1e8cd54>\u001b[0m in \u001b[0;36m<module>\u001b[1;34m\u001b[0m\n\u001b[1;32m----> 1\u001b[1;33m \u001b[0mtagged\u001b[0m \u001b[1;33m=\u001b[0m \u001b[0mnltk\u001b[0m\u001b[1;33m.\u001b[0m\u001b[0mpos_tag\u001b[0m\u001b[1;33m(\u001b[0m\u001b[0mtext1\u001b[0m\u001b[1;33m)\u001b[0m\u001b[1;33m\u001b[0m\u001b[1;33m\u001b[0m\u001b[0m\n\u001b[0m",
      "\u001b[1;31mNameError\u001b[0m: name 'text1' is not defined"
     ]
    }
   ],
   "source": [
    "tagged = nltk.pos_tag(text1)"
   ]
  },
  {
   "cell_type": "code",
   "execution_count": 14,
   "metadata": {},
   "outputs": [],
   "source": [
    "from nltk.util import ngrams"
   ]
  },
  {
   "cell_type": "code",
   "execution_count": 15,
   "metadata": {},
   "outputs": [
    {
     "name": "stdout",
     "output_type": "stream",
     "text": [
      "['plot : two', ': two teen', 'two teen couples', 'teen couples go', 'couples go to', 'go to a', 'to a church', 'a church party', 'church party ,', 'party , drink', ', drink and', 'drink and then', 'and then drive', 'then drive .', 'drive . they', '. they get', 'they get into', 'get into an', 'into an accident', 'an accident .', 'accident . one', '. one of', 'one of the', 'of the guys', 'the guys dies', 'guys dies ,', 'dies , but', ', but his', 'but his girlfriend', 'his girlfriend continues', 'girlfriend continues to', 'continues to see', 'to see him', 'see him in', 'him in her', 'in her life', 'her life ,', 'life , and', ', and has', 'and has nightmares', 'has nightmares .', \"nightmares . what's\", \". what's the\", \"what's the deal\", 'the deal ?', 'deal ? watch', '? watch the', 'watch the movie', 'the movie and', 'movie and \"', 'and \" sorta', '\" sorta \"', 'sorta \" find', '\" find out', 'find out .', 'out . .', '. . .', '. . critique', '. critique :', 'critique : a', ': a mind-fuck', 'a mind-fuck movie', 'mind-fuck movie for', 'movie for the', 'for the teen', 'the teen generation', 'teen generation that', 'generation that touches', 'that touches on', 'touches on a', 'on a very', 'a very cool', 'very cool idea', 'cool idea ,', 'idea , but', ', but presents', 'but presents it', 'presents it in', 'it in a', 'in a very', 'a very bad', 'very bad package', 'bad package .', 'package . which', '. which is', 'which is what', 'is what makes', 'what makes this', 'makes this review', 'this review an', 'review an even', 'an even harder', 'even harder one', 'harder one to', 'one to write', 'to write ,', 'write , since', ', since i', 'since i generally', 'i generally applaud', 'generally applaud films', 'applaud films which', 'films which attempt', 'which attempt to', 'attempt to break', 'to break the', 'break the mold', 'the mold ,', 'mold , mess', ', mess with', 'mess with your', 'with your head', 'your head and', 'head and such', 'and such (', 'such ( lost', '( lost highway', 'lost highway &', 'highway & memento', '& memento )', 'memento ) ,', ') , but', ', but there', 'but there are', 'there are good', 'are good and', 'good and bad', 'and bad ways', 'bad ways of', 'ways of making', 'of making all', 'making all types', 'all types of', 'types of films', 'of films ,', 'films , and', ', and these', 'and these folks', 'these folks just', \"folks just didn't\", \"just didn't snag\", \"didn't snag this\", 'snag this one', 'this one correctly', 'one correctly .', 'correctly . they', '. they seem', 'they seem to', 'seem to have', 'to have taken', 'have taken this', 'taken this pretty', 'this pretty neat', 'pretty neat concept', 'neat concept ,', 'concept , but', ', but executed', 'but executed it', 'executed it terribly', 'it terribly .', 'terribly . so', '. so what', 'so what are', 'what are the', 'are the problems', 'the problems with', 'problems with the', 'with the movie', 'the movie ?', 'movie ? well', '? well ,', 'well , its', ', its main', 'its main problem', 'main problem is', 'problem is that', \"is that it's\", \"that it's simply\", \"it's simply too\", 'simply too jumbled', 'too jumbled .', 'jumbled . it', '. it starts', 'it starts off', 'starts off \"', 'off \" normal', '\" normal \"', 'normal \" but', '\" but then', 'but then downshifts', 'then downshifts into', 'downshifts into this', 'into this \"', 'this \" fantasy', '\" fantasy \"', 'fantasy \" world', '\" world in', 'world in which', 'in which you', 'which you ,', 'you , as', ', as an', 'as an audience', 'an audience member', 'audience member ,', 'member , have', ', have no', 'have no idea', \"no idea what's\", \"idea what's going\", \"what's going on\", 'going on .', 'on . there', '. there are', 'there are dreams', 'are dreams ,', 'dreams , there', ', there are', 'there are characters', 'are characters coming', 'characters coming back', 'coming back from', 'back from the', 'from the dead', 'the dead ,', 'dead , there', ', there are', 'there are others', 'are others who', 'others who look', 'who look like', 'look like the', 'like the dead', 'the dead ,', 'dead , there', ', there are', 'there are strange', 'are strange apparitions', 'strange apparitions ,', 'apparitions , there', ', there are', 'there are disappearances', 'are disappearances ,', 'disappearances , there', ', there are', 'there are a', 'are a looooot', 'a looooot of', 'looooot of chase', 'of chase scenes', 'chase scenes ,', 'scenes , there', ', there are', 'there are tons', 'are tons of', 'tons of weird', 'of weird things', 'weird things that', 'things that happen', 'that happen ,', 'happen , and', ', and most', 'and most of', 'most of it', 'of it is', 'it is simply', 'is simply not', 'simply not explained', 'not explained .', 'explained . now', '. now i', 'now i personally', \"i personally don't\", \"personally don't mind\", \"don't mind trying\", 'mind trying to', 'trying to unravel', 'to unravel a', 'unravel a film', 'a film every', 'film every now', 'every now and', 'now and then', 'and then ,', 'then , but', ', but when', 'but when all', 'when all it', 'all it does', 'it does is', 'does is give', 'is give me', 'give me the', 'me the same', 'the same clue', 'same clue over', 'clue over and', 'over and over', 'and over again', 'over again ,', 'again , i', ', i get', 'i get kind', 'get kind of', 'kind of fed', 'of fed up', 'fed up after', 'up after a', 'after a while', 'a while ,', 'while , which', ', which is', 'which is this', \"is this film's\", \"this film's biggest\", \"film's biggest problem\", 'biggest problem .', \"problem . it's\", \". it's obviously\", \"it's obviously got\", 'obviously got this', 'got this big', 'this big secret', 'big secret to', 'secret to hide', 'to hide ,', 'hide , but', ', but it', 'but it seems', 'it seems to', 'seems to want', 'to want to', 'want to hide', 'to hide it', 'hide it completely', 'it completely until', 'completely until its', 'until its final', 'its final five', 'final five minutes', 'five minutes .', 'minutes . and', '. and do', 'and do they', 'do they make', 'they make things', 'make things entertaining', 'things entertaining ,', 'entertaining , thrilling', ', thrilling or', 'thrilling or even', 'or even engaging', 'even engaging ,', 'engaging , in', ', in the', 'in the meantime', 'the meantime ?', 'meantime ? not', '? not really', 'not really .', 'really . the', '. the sad', 'the sad part', 'sad part is', 'part is that', 'is that the', 'that the arrow', 'the arrow and', 'arrow and i', 'and i both', 'i both dig', 'both dig on', 'dig on flicks', 'on flicks like', 'flicks like this', 'like this ,', 'this , so', ', so we', 'so we actually', 'we actually figured', 'actually figured most', 'figured most of', 'most of it', 'of it out', 'it out by', 'out by the', 'by the half-way', 'the half-way point', 'half-way point ,', 'point , so', ', so all', 'so all of', 'all of the', 'of the strangeness', 'the strangeness after', 'strangeness after that', 'after that did', 'that did start', 'did start to', 'start to make', 'to make a', 'make a little', 'a little bit', 'little bit of', 'bit of sense', 'of sense ,', 'sense , but', ', but it', 'but it still', \"it still didn't\", \"still didn't the\", \"didn't the make\", 'the make the', 'make the film', 'the film all', 'film all that', 'all that more', 'that more entertaining', 'more entertaining .', 'entertaining . i', '. i guess', 'i guess the', 'guess the bottom', 'the bottom line', 'bottom line with', 'line with movies', 'with movies like', 'movies like this', 'like this is', 'this is that', 'is that you', 'that you should', 'you should always', 'should always make', 'always make sure', 'make sure that', 'sure that the', 'that the audience', 'the audience is', 'audience is \"', 'is \" into', '\" into it', 'into it \"', 'it \" even', '\" even before', 'even before they', 'before they are', 'they are given', 'are given the', 'given the secret', 'the secret password', 'secret password to', 'password to enter', 'to enter your', 'enter your world', 'your world of', 'world of understanding', 'of understanding .', 'understanding . i', '. i mean', 'i mean ,', 'mean , showing', ', showing melissa', 'showing melissa sagemiller', 'melissa sagemiller running', 'sagemiller running away', 'running away from', 'away from visions', 'from visions for', 'visions for about', 'for about 20', 'about 20 minutes', '20 minutes throughout', 'minutes throughout the', 'throughout the movie', 'the movie is', 'movie is just', 'is just plain', 'just plain lazy', 'plain lazy !', 'lazy ! !', '! ! okay', '! okay ,', 'okay , we', ', we get', 'we get it', 'get it .', 'it . .', '. . .', '. . there', '. there are', 'there are people', 'are people chasing', 'people chasing her', 'chasing her and', 'her and we', \"and we don't\", \"we don't know\", \"don't know who\", 'know who they', 'who they are', 'they are .', 'are . do', '. do we', 'do we really', 'we really need', 'really need to', 'need to see', 'to see it', 'see it over', 'it over and', 'over and over', 'and over again', 'over again ?', 'again ? how', '? how about', 'how about giving', 'about giving us', 'giving us different', 'us different scenes', 'different scenes offering', 'scenes offering further', 'offering further insight', 'further insight into', 'insight into all', 'into all of', 'all of the', 'of the strangeness', 'the strangeness going', 'strangeness going down', 'going down in', 'down in the', 'in the movie', 'the movie ?', 'movie ? apparently', '? apparently ,', 'apparently , the', ', the studio', 'the studio took', 'studio took this', 'took this film', 'this film away', 'film away from', 'away from its', 'from its director', 'its director and', 'director and chopped', 'and chopped it', 'chopped it up', 'it up themselves', 'up themselves ,', 'themselves , and', ', and it', 'and it shows', 'it shows .', 'shows . there', \". there might've\", \"there might've been\", \"might've been a\", 'been a pretty', 'a pretty decent', 'pretty decent teen', 'decent teen mind-fuck', 'teen mind-fuck movie', 'mind-fuck movie in', 'movie in here', 'in here somewhere', 'here somewhere ,', 'somewhere , but', ', but i', 'but i guess', 'i guess \"', 'guess \" the', '\" the suits', 'the suits \"', 'suits \" decided', '\" decided that', 'decided that turning', 'that turning it', 'turning it into', 'it into a', 'into a music', 'a music video', 'music video with', 'video with little', 'with little edge', 'little edge ,', 'edge , would', ', would make', 'would make more', 'make more sense', 'more sense .', 'sense . the', '. the actors', 'the actors are', 'actors are pretty', 'are pretty good', 'pretty good for', 'good for the', 'for the most', 'the most part', 'most part ,', 'part , although', ', although wes', 'although wes bentley', 'wes bentley just', 'bentley just seemed', 'just seemed to', 'seemed to be', 'to be playing', 'be playing the', 'playing the exact', 'the exact same', 'exact same character', 'same character that', 'character that he', 'that he did', 'he did in', 'did in american', 'in american beauty', 'american beauty ,', 'beauty , only', ', only in', 'only in a', 'in a new', 'a new neighborhood', 'new neighborhood .', 'neighborhood . but', '. but my', 'but my biggest', 'my biggest kudos', 'biggest kudos go', 'kudos go out', 'go out to', 'out to sagemiller', 'to sagemiller ,', 'sagemiller , who', ', who holds', 'who holds her', 'holds her own', 'her own throughout', 'own throughout the', 'throughout the entire', 'the entire film', 'entire film ,', 'film , and', ', and actually', 'and actually has', 'actually has you', 'has you feeling', 'you feeling her', \"feeling her character's\", \"her character's unraveling\", \"character's unraveling .\", 'unraveling . overall', '. overall ,', 'overall , the', ', the film', \"the film doesn't\", \"film doesn't stick\", \"doesn't stick because\", 'stick because it', \"because it doesn't\", \"it doesn't entertain\", \"doesn't entertain ,\", \"entertain , it's\", \", it's confusing\", \"it's confusing ,\", 'confusing , it', ', it rarely', 'it rarely excites', 'rarely excites and', 'excites and it', 'and it feels', 'it feels pretty', 'feels pretty redundant', 'pretty redundant for', 'redundant for most', 'for most of', 'most of its', 'of its runtime', 'its runtime ,', 'runtime , despite', ', despite a', 'despite a pretty', 'a pretty cool', 'pretty cool ending', 'cool ending and', 'ending and explanation', 'and explanation to', 'explanation to all', 'to all of', 'all of the', 'of the craziness', 'the craziness that', 'craziness that came', 'that came before', 'came before it', 'before it .', 'it . oh', '. oh ,', 'oh , and', ', and by', 'and by the', 'by the way', 'the way ,', 'way , this', ', this is', 'this is not', 'is not a', 'not a horror', 'a horror or', 'horror or teen', 'or teen slasher', 'teen slasher flick', 'slasher flick .', 'flick . .', '. . .', \". . it's\", \". it's just\", \"it's just packaged\", 'just packaged to', 'packaged to look', 'to look that', 'look that way', 'that way because', 'way because someone', 'because someone is', 'someone is apparently', 'is apparently assuming', 'apparently assuming that', 'assuming that the', 'that the genre', 'the genre is', 'genre is still', 'is still hot', 'still hot with', 'hot with the', 'with the kids', 'the kids .', 'kids . it', '. it also', 'it also wrapped', 'also wrapped production', 'wrapped production two', 'production two years', 'two years ago', 'years ago and', 'ago and has', 'and has been', 'has been sitting', 'been sitting on', 'sitting on the', 'on the shelves', 'the shelves ever', 'shelves ever since', 'ever since .', 'since . whatever', '. whatever .', 'whatever . .', '. . .', '. . skip', '. skip it', 'skip it !', \"it ! where's\", \"! where's joblo\", \"where's joblo coming\", 'joblo coming from', 'coming from ?', 'from ? a', '? a nightmare', 'a nightmare of', 'nightmare of elm', 'of elm street', 'elm street 3', 'street 3 (', '3 ( 7/10', '( 7/10 )', '7/10 ) -', ') - blair', '- blair witch', 'blair witch 2', 'witch 2 (', '2 ( 7/10', '( 7/10 )', '7/10 ) -', ') - the', '- the crow', 'the crow (', 'crow ( 9/10', '( 9/10 )', '9/10 ) -', ') - the', '- the crow', 'the crow :', 'crow : salvation', ': salvation (', 'salvation ( 4/10', '( 4/10 )', '4/10 ) -', ') - lost', '- lost highway', 'lost highway (', 'highway ( 10/10', '( 10/10 )', '10/10 ) -', ') - memento', '- memento (', 'memento ( 10/10', '( 10/10 )', '10/10 ) -', ') - the', '- the others', 'the others (', 'others ( 9/10', '( 9/10 )', '9/10 ) -', ') - stir', '- stir of', 'stir of echoes', 'of echoes (', 'echoes ( 8/10', '( 8/10 )']\n"
     ]
    }
   ],
   "source": [
    "text_1 = texts[0].split()\n",
    "trigrams = list(ngrams(text_1,3))\n",
    "trigrams_1 = [\" \".join(token) for token in trigrams]\n",
    "print(trigrams_1)"
   ]
  },
  {
   "cell_type": "markdown",
   "metadata": {
    "id": "72OUet02TjBo"
   },
   "source": [
    "Run the following to train and evaluate two models using basic features:"
   ]
  },
  {
   "cell_type": "code",
   "execution_count": 16,
   "metadata": {},
   "outputs": [],
   "source": [
    "from nltk.stem.porter import PorterStemmer\n",
    "stemmer = PorterStemmer()\n",
    "singles = stemmer.stem"
   ]
  },
  {
   "cell_type": "code",
   "execution_count": 18,
   "metadata": {
    "id": "4IpJ7PKjvc8I"
   },
   "outputs": [
    {
     "ename": "NameError",
     "evalue": "name 'vocab' is not defined",
     "output_type": "error",
     "traceback": [
      "\u001b[1;31m---------------------------------------------------------------------------\u001b[0m",
      "\u001b[1;31mNameError\u001b[0m                                 Traceback (most recent call last)",
      "\u001b[1;32m<ipython-input-18-030fe17fe1ef>\u001b[0m in \u001b[0;36m<module>\u001b[1;34m\u001b[0m\n\u001b[1;32m----> 1\u001b[1;33m \u001b[0mX\u001b[0m\u001b[1;33m,\u001b[0m\u001b[0my\u001b[0m\u001b[1;33m,\u001b[0m\u001b[0mvocab\u001b[0m \u001b[1;33m=\u001b[0m \u001b[0mcreateBasicFeatures\u001b[0m\u001b[1;33m(\u001b[0m\u001b[0mcorpus\u001b[0m\u001b[1;33m)\u001b[0m\u001b[1;33m\u001b[0m\u001b[1;33m\u001b[0m\u001b[0m\n\u001b[0m\u001b[0;32m      2\u001b[0m \u001b[0mrunEvaluation\u001b[0m\u001b[1;33m(\u001b[0m\u001b[0mX\u001b[0m\u001b[1;33m,\u001b[0m \u001b[0my\u001b[0m\u001b[1;33m,\u001b[0m \u001b[0mvocab\u001b[0m\u001b[1;33m)\u001b[0m\u001b[1;33m\u001b[0m\u001b[1;33m\u001b[0m\u001b[0m\n",
      "\u001b[1;32m<ipython-input-3-e35a27a644ac>\u001b[0m in \u001b[0;36mcreateBasicFeatures\u001b[1;34m(corpus)\u001b[0m\n\u001b[0;32m     11\u001b[0m     \u001b[1;31m#Your code here\u001b[0m\u001b[1;33m\u001b[0m\u001b[1;33m\u001b[0m\u001b[1;33m\u001b[0m\u001b[0m\n\u001b[0;32m     12\u001b[0m \u001b[1;33m\u001b[0m\u001b[0m\n\u001b[1;32m---> 13\u001b[1;33m     \u001b[1;32mreturn\u001b[0m \u001b[0mtexts\u001b[0m\u001b[1;33m,\u001b[0m\u001b[0mclasses\u001b[0m\u001b[1;33m,\u001b[0m\u001b[0mvocab\u001b[0m\u001b[1;33m\u001b[0m\u001b[1;33m\u001b[0m\u001b[0m\n\u001b[0m\u001b[0;32m     14\u001b[0m \u001b[1;33m\u001b[0m\u001b[0m\n\u001b[0;32m     15\u001b[0m \u001b[1;31m# This function can add other features you want that help classification\u001b[0m\u001b[1;33m\u001b[0m\u001b[1;33m\u001b[0m\u001b[1;33m\u001b[0m\u001b[0m\n",
      "\u001b[1;31mNameError\u001b[0m: name 'vocab' is not defined"
     ]
    }
   ],
   "source": [
    "X,y,vocab = createBasicFeatures(corpus)\n",
    "runEvaluation(X, y, vocab)"
   ]
  },
  {
   "cell_type": "markdown",
   "metadata": {
    "id": "4sjxLL2PTrJi"
   },
   "source": [
    "Run the following to train and evaluate two models using extended features:"
   ]
  },
  {
   "cell_type": "code",
   "execution_count": 8,
   "metadata": {
    "id": "1iHudrPb5NPY"
   },
   "outputs": [
    {
     "ename": "NameError",
     "evalue": "name 'corpus' is not defined",
     "output_type": "error",
     "traceback": [
      "\u001b[1;31m---------------------------------------------------------------------------\u001b[0m",
      "\u001b[1;31mNameError\u001b[0m                                 Traceback (most recent call last)",
      "\u001b[1;32m<ipython-input-8-3b748ddb25fc>\u001b[0m in \u001b[0;36m<module>\u001b[1;34m\u001b[0m\n\u001b[1;32m----> 1\u001b[1;33m \u001b[0mX\u001b[0m\u001b[1;33m,\u001b[0m\u001b[0my\u001b[0m\u001b[1;33m,\u001b[0m\u001b[0mvocab\u001b[0m \u001b[1;33m=\u001b[0m \u001b[0mcreateFancyFeatures\u001b[0m\u001b[1;33m(\u001b[0m\u001b[0mcorpus\u001b[0m\u001b[1;33m)\u001b[0m\u001b[1;33m\u001b[0m\u001b[1;33m\u001b[0m\u001b[0m\n\u001b[0m\u001b[0;32m      2\u001b[0m \u001b[0mrunEvaluation\u001b[0m\u001b[1;33m(\u001b[0m\u001b[0mX\u001b[0m\u001b[1;33m,\u001b[0m \u001b[0my\u001b[0m\u001b[1;33m,\u001b[0m \u001b[0mvocab\u001b[0m\u001b[1;33m)\u001b[0m\u001b[1;33m\u001b[0m\u001b[1;33m\u001b[0m\u001b[0m\n",
      "\u001b[1;31mNameError\u001b[0m: name 'corpus' is not defined"
     ]
    }
   ],
   "source": [
    "X,y,vocab = createFancyFeatures(corpus)\n",
    "runEvaluation(X, y, vocab)"
   ]
  },
  {
   "cell_type": "code",
   "execution_count": 26,
   "metadata": {},
   "outputs": [],
   "source": [
    "import ast"
   ]
  },
  {
   "cell_type": "code",
   "execution_count": null,
   "metadata": {},
   "outputs": [],
   "source": []
  }
 ],
 "metadata": {
  "colab": {
   "collapsed_sections": [],
   "include_colab_link": true,
   "name": "PS1-Reviews.ipynb",
   "provenance": []
  },
  "kernelspec": {
   "display_name": "Python 3",
   "language": "python",
   "name": "python3"
  },
  "language_info": {
   "codemirror_mode": {
    "name": "ipython",
    "version": 3
   },
   "file_extension": ".py",
   "mimetype": "text/x-python",
   "name": "python",
   "nbconvert_exporter": "python",
   "pygments_lexer": "ipython3",
   "version": "3.8.5"
  }
 },
 "nbformat": 4,
 "nbformat_minor": 1
}
